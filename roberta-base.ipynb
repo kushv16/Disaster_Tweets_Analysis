{
 "cells": [
  {
   "cell_type": "code",
   "execution_count": 1,
   "id": "7959ddaa",
   "metadata": {
    "execution": {
     "iopub.execute_input": "2021-10-13T06:32:13.549049Z",
     "iopub.status.busy": "2021-10-13T06:32:13.546746Z",
     "iopub.status.idle": "2021-10-13T06:32:24.694816Z",
     "shell.execute_reply": "2021-10-13T06:32:24.693749Z",
     "shell.execute_reply.started": "2021-10-13T06:10:13.750498Z"
    },
    "papermill": {
     "duration": 11.183796,
     "end_time": "2021-10-13T06:32:24.695008",
     "exception": false,
     "start_time": "2021-10-13T06:32:13.511212",
     "status": "completed"
    },
    "tags": []
   },
   "outputs": [
    {
     "name": "stderr",
     "output_type": "stream",
     "text": [
      "2021-10-13 06:32:19.188870: I tensorflow/stream_executor/platform/default/dso_loader.cc:49] Successfully opened dynamic library libcudart.so.11.0\n"
     ]
    }
   ],
   "source": [
    "import transformers\n",
    "from transformers import BertModel, BertTokenizer, RobertaModel, RobertaTokenizer, AdamW, get_linear_schedule_with_warmup\n",
    "import torch\n",
    "import numpy as np\n",
    "import pandas as pd\n",
    "import seaborn as sns\n",
    "import re\n",
    "from pylab import rcParams\n",
    "import matplotlib.pyplot as plt\n",
    "from matplotlib import rc\n",
    "from sklearn.model_selection import train_test_split\n",
    "from sklearn.metrics import confusion_matrix, classification_report\n",
    "from collections import defaultdict\n",
    "from textwrap import wrap\n",
    "from torch import nn, optim\n",
    "from torch.utils.data import Dataset, DataLoader"
   ]
  },
  {
   "cell_type": "code",
   "execution_count": 2,
   "id": "7bf7d28a",
   "metadata": {
    "execution": {
     "iopub.execute_input": "2021-10-13T06:32:24.756537Z",
     "iopub.status.busy": "2021-10-13T06:32:24.755636Z",
     "iopub.status.idle": "2021-10-13T06:32:27.128218Z",
     "shell.execute_reply": "2021-10-13T06:32:27.129117Z",
     "shell.execute_reply.started": "2021-10-13T06:10:13.760554Z"
    },
    "papermill": {
     "duration": 2.405817,
     "end_time": "2021-10-13T06:32:27.129324",
     "exception": false,
     "start_time": "2021-10-13T06:32:24.723507",
     "status": "completed"
    },
    "tags": []
   },
   "outputs": [
    {
     "name": "stderr",
     "output_type": "stream",
     "text": [
      "\u001b[34m\u001b[1mwandb\u001b[0m: W&B API key is configured (use `wandb login --relogin` to force relogin)\n",
      "\u001b[34m\u001b[1mwandb\u001b[0m: \u001b[33mWARNING\u001b[0m If you're specifying your api key in code, ensure this code is not shared publically.\n",
      "\u001b[34m\u001b[1mwandb\u001b[0m: \u001b[33mWARNING\u001b[0m Consider setting the WANDB_API_KEY environment variable, or running `wandb login` from the command line.\n",
      "\u001b[34m\u001b[1mwandb\u001b[0m: Appending key for api.wandb.ai to your netrc file: /root/.netrc\n"
     ]
    },
    {
     "data": {
      "text/plain": [
       "True"
      ]
     },
     "execution_count": 2,
     "metadata": {},
     "output_type": "execute_result"
    }
   ],
   "source": [
    "from kaggle_secrets import UserSecretsClient\n",
    "import wandb\n",
    "from wandb.keras import WandbCallback\n",
    "user_secrets = UserSecretsClient()\n",
    "wandb_api = user_secrets.get_secret(\"wandb-api-key\") \n",
    "wandb.login(key=wandb_api)"
   ]
  },
  {
   "cell_type": "code",
   "execution_count": 3,
   "id": "87a6a3e3",
   "metadata": {
    "execution": {
     "iopub.execute_input": "2021-10-13T06:32:27.197024Z",
     "iopub.status.busy": "2021-10-13T06:32:27.194655Z",
     "iopub.status.idle": "2021-10-13T06:32:27.197767Z",
     "shell.execute_reply": "2021-10-13T06:32:27.198314Z",
     "shell.execute_reply.started": "2021-10-13T06:10:14.344846Z"
    },
    "papermill": {
     "duration": 0.03958,
     "end_time": "2021-10-13T06:32:27.198486",
     "exception": false,
     "start_time": "2021-10-13T06:32:27.158906",
     "status": "completed"
    },
    "tags": []
   },
   "outputs": [],
   "source": [
    "config = dict(\n",
    "    epochs=2,\n",
    "    classes=2,\n",
    "    batch_size=16,\n",
    "    max_length=120,\n",
    "    learning_rate=1e-5,\n",
    "    architecture=\"Transformer\",\n",
    "    model_name=\"Roberta\",\n",
    "    pre_trained_model_name=\"roberta-base\"\n",
    ")"
   ]
  },
  {
   "cell_type": "code",
   "execution_count": 4,
   "id": "40a7dc55",
   "metadata": {
    "execution": {
     "iopub.execute_input": "2021-10-13T06:32:27.314221Z",
     "iopub.status.busy": "2021-10-13T06:32:27.313231Z",
     "iopub.status.idle": "2021-10-13T06:32:27.317922Z",
     "shell.execute_reply": "2021-10-13T06:32:27.317361Z",
     "shell.execute_reply.started": "2021-10-13T06:10:14.359821Z"
    },
    "papermill": {
     "duration": 0.088632,
     "end_time": "2021-10-13T06:32:27.318077",
     "exception": false,
     "start_time": "2021-10-13T06:32:27.229445",
     "status": "completed"
    },
    "tags": []
   },
   "outputs": [],
   "source": [
    "device = torch.device(\"cuda:0\" if torch.cuda.is_available() else \"cpu\")"
   ]
  },
  {
   "cell_type": "code",
   "execution_count": 5,
   "id": "a1d3668c",
   "metadata": {
    "execution": {
     "iopub.execute_input": "2021-10-13T06:32:27.387042Z",
     "iopub.status.busy": "2021-10-13T06:32:27.386162Z",
     "iopub.status.idle": "2021-10-13T06:32:27.461258Z",
     "shell.execute_reply": "2021-10-13T06:32:27.460715Z",
     "shell.execute_reply.started": "2021-10-13T06:10:14.370418Z"
    },
    "papermill": {
     "duration": 0.11141,
     "end_time": "2021-10-13T06:32:27.461412",
     "exception": false,
     "start_time": "2021-10-13T06:32:27.350002",
     "status": "completed"
    },
    "tags": []
   },
   "outputs": [],
   "source": [
    "train_data = pd.read_csv('/kaggle/input/nlp-getting-started/train.csv')\n",
    "test_data = pd.read_csv('/kaggle/input/nlp-getting-started/test.csv')"
   ]
  },
  {
   "cell_type": "code",
   "execution_count": 6,
   "id": "b66b95e7",
   "metadata": {
    "execution": {
     "iopub.execute_input": "2021-10-13T06:32:27.530144Z",
     "iopub.status.busy": "2021-10-13T06:32:27.529252Z",
     "iopub.status.idle": "2021-10-13T06:32:27.533599Z",
     "shell.execute_reply": "2021-10-13T06:32:27.533017Z",
     "shell.execute_reply.started": "2021-10-13T06:10:14.432164Z"
    },
    "papermill": {
     "duration": 0.04232,
     "end_time": "2021-10-13T06:32:27.533746",
     "exception": false,
     "start_time": "2021-10-13T06:32:27.491426",
     "status": "completed"
    },
    "tags": []
   },
   "outputs": [],
   "source": [
    "emoji_pattern = re.compile(\"[\"\n",
    "         u\"\\U0001F600-\\U0001F64F\"  # emoticons\n",
    "         u\"\\U0001F300-\\U0001F5FF\"  # symbols & pictographs\n",
    "         u\"\\U0001F680-\\U0001F6FF\"  # transport & map symbols\n",
    "         u\"\\U0001F1E0-\\U0001F1FF\"  # flags (iOS)\n",
    "         u\"\\U00002702-\\U000027B0\"\n",
    "         u\"\\U000024C2-\\U0001F251\"\n",
    "         \"]+\", flags=re.UNICODE)"
   ]
  },
  {
   "cell_type": "code",
   "execution_count": 7,
   "id": "871d9518",
   "metadata": {
    "execution": {
     "iopub.execute_input": "2021-10-13T06:32:27.604041Z",
     "iopub.status.busy": "2021-10-13T06:32:27.603135Z",
     "iopub.status.idle": "2021-10-13T06:32:28.314140Z",
     "shell.execute_reply": "2021-10-13T06:32:28.313533Z",
     "shell.execute_reply.started": "2021-10-13T06:10:14.445208Z"
    },
    "papermill": {
     "duration": 0.750439,
     "end_time": "2021-10-13T06:32:28.314293",
     "exception": false,
     "start_time": "2021-10-13T06:32:27.563854",
     "status": "completed"
    },
    "tags": []
   },
   "outputs": [],
   "source": [
    "import re\n",
    "from nltk.tokenize import WordPunctTokenizer\n",
    "# import emoji\n",
    "from bs4 import BeautifulSoup\n",
    "import itertools\n",
    "\n",
    "tok = WordPunctTokenizer()\n",
    "\n",
    "pattern1 = r'@[A-Za-z0-9]+'\n",
    "pattern2 = r'https?://[A-Za-z0-9./]+'\n",
    "\n",
    "def tweet_cleaner(text): # ref: https://towardsdatascience.com/another-twitter-sentiment-analysis-bb5b01ebad90\n",
    "    # removing UTF-8 BOM (Byte Order Mark)\n",
    "    text = text.lower()\n",
    "    \n",
    "    try:\n",
    "        text1 = text.decode(\"utf-8-sig\").replace(u\"\\ufffd\", \"?\") # The UTF-8 BOM is a sequence of bytes (EF BB BF) that allows the reader to identify a file as being encoded in UTF-8\n",
    "    except:\n",
    "        text1 = text\n",
    "    \n",
    "    \n",
    "    #replace consecutive non-ASCII characters with a space\n",
    "    text1 = re.sub(r'[^\\x00-\\x7F]+',' ', text1)\n",
    "    \n",
    "    #remove emojis from tweet\n",
    "    text2 = emoji_pattern.sub(r'', text1)\n",
    "    \n",
    "    # Remove emoticons\n",
    "    # text3 = [word for word in text2.split() if word not in emoticons]\n",
    "    # text3 = \" \".join(text3)\n",
    "    \n",
    "    # contradictions and special characters \n",
    "    # text4 = spl_ch_contra(text3)\n",
    "    \n",
    "    # HTML encoding\n",
    "    soup = BeautifulSoup(text2, 'lxml') #HTML encoding has not been converted to text, and ended up in text field as ‘&amp’,’&quot’,etc.\n",
    "    text5 = soup.get_text()\n",
    "    \n",
    "    # removing @ mentions\n",
    "    text6 = re.sub(pattern1, '', text5)\n",
    "    \n",
    "    # Removing URLs\n",
    "    text7 = re.sub(pattern2, '', text6)\n",
    "    \n",
    "#     Removing punctuations\n",
    "    text8 = re.sub(\"[\\.\\,\\!\\?\\:\\;\\-\\=\\(\\)\\[\\]\\\"\\'\\%\\*\\#\\@><]\", \" \", text7)\n",
    "    \n",
    "    # Tokenizing ,change cases & join together to remove unneccessary white spaces\n",
    "    text7_list = tok.tokenize(text8)\n",
    "    text10 = (\" \".join(text7_list)).strip()\n",
    "    \n",
    "    return text10"
   ]
  },
  {
   "cell_type": "code",
   "execution_count": 8,
   "id": "1bf51765",
   "metadata": {
    "execution": {
     "iopub.execute_input": "2021-10-13T06:32:28.386868Z",
     "iopub.status.busy": "2021-10-13T06:32:28.385726Z",
     "iopub.status.idle": "2021-10-13T06:32:30.845340Z",
     "shell.execute_reply": "2021-10-13T06:32:30.846102Z",
     "shell.execute_reply.started": "2021-10-13T06:10:14.463175Z"
    },
    "papermill": {
     "duration": 2.501912,
     "end_time": "2021-10-13T06:32:30.846305",
     "exception": false,
     "start_time": "2021-10-13T06:32:28.344393",
     "status": "completed"
    },
    "tags": []
   },
   "outputs": [],
   "source": [
    "train_data['text'] = list(map(lambda x:tweet_cleaner(x),train_data['text']))\n"
   ]
  },
  {
   "cell_type": "code",
   "execution_count": 9,
   "id": "f60c0455",
   "metadata": {
    "execution": {
     "iopub.execute_input": "2021-10-13T06:32:30.912726Z",
     "iopub.status.busy": "2021-10-13T06:32:30.911750Z",
     "iopub.status.idle": "2021-10-13T06:32:30.915904Z",
     "shell.execute_reply": "2021-10-13T06:32:30.917030Z",
     "shell.execute_reply.started": "2021-10-13T06:10:16.149371Z"
    },
    "papermill": {
     "duration": 0.0415,
     "end_time": "2021-10-13T06:32:30.917331",
     "exception": false,
     "start_time": "2021-10-13T06:32:30.875831",
     "status": "completed"
    },
    "tags": []
   },
   "outputs": [
    {
     "name": "stdout",
     "output_type": "stream",
     "text": [
      "(7613, 5)\n",
      "(3263, 4)\n"
     ]
    }
   ],
   "source": [
    "print(train_data.shape)\n",
    "print(test_data.shape)"
   ]
  },
  {
   "cell_type": "code",
   "execution_count": 10,
   "id": "3c07ef31",
   "metadata": {
    "execution": {
     "iopub.execute_input": "2021-10-13T06:32:30.992095Z",
     "iopub.status.busy": "2021-10-13T06:32:30.986428Z",
     "iopub.status.idle": "2021-10-13T06:32:30.997646Z",
     "shell.execute_reply": "2021-10-13T06:32:30.996982Z",
     "shell.execute_reply.started": "2021-10-13T06:10:16.160891Z"
    },
    "papermill": {
     "duration": 0.049275,
     "end_time": "2021-10-13T06:32:30.997817",
     "exception": false,
     "start_time": "2021-10-13T06:32:30.948542",
     "status": "completed"
    },
    "tags": []
   },
   "outputs": [
    {
     "data": {
      "text/plain": [
       "id             0\n",
       "keyword       61\n",
       "location    2533\n",
       "text           0\n",
       "target         0\n",
       "dtype: int64"
      ]
     },
     "execution_count": 10,
     "metadata": {},
     "output_type": "execute_result"
    }
   ],
   "source": [
    "train_data.isna().sum()"
   ]
  },
  {
   "cell_type": "code",
   "execution_count": 11,
   "id": "c006c76b",
   "metadata": {
    "execution": {
     "iopub.execute_input": "2021-10-13T06:32:31.069954Z",
     "iopub.status.busy": "2021-10-13T06:32:31.068802Z",
     "iopub.status.idle": "2021-10-13T06:32:31.074011Z",
     "shell.execute_reply": "2021-10-13T06:32:31.073360Z",
     "shell.execute_reply.started": "2021-10-13T06:10:16.174482Z"
    },
    "papermill": {
     "duration": 0.045155,
     "end_time": "2021-10-13T06:32:31.074147",
     "exception": false,
     "start_time": "2021-10-13T06:32:31.028992",
     "status": "completed"
    },
    "tags": []
   },
   "outputs": [
    {
     "data": {
      "text/plain": [
       "id             0\n",
       "keyword       26\n",
       "location    1105\n",
       "text           0\n",
       "dtype: int64"
      ]
     },
     "execution_count": 11,
     "metadata": {},
     "output_type": "execute_result"
    }
   ],
   "source": [
    "test_data.isna().sum()"
   ]
  },
  {
   "cell_type": "code",
   "execution_count": 12,
   "id": "68125fcf",
   "metadata": {
    "execution": {
     "iopub.execute_input": "2021-10-13T06:32:31.141930Z",
     "iopub.status.busy": "2021-10-13T06:32:31.140820Z",
     "iopub.status.idle": "2021-10-13T06:32:31.381227Z",
     "shell.execute_reply": "2021-10-13T06:32:31.380688Z",
     "shell.execute_reply.started": "2021-10-13T06:10:16.187752Z"
    },
    "papermill": {
     "duration": 0.27559,
     "end_time": "2021-10-13T06:32:31.381375",
     "exception": false,
     "start_time": "2021-10-13T06:32:31.105785",
     "status": "completed"
    },
    "tags": []
   },
   "outputs": [
    {
     "name": "stderr",
     "output_type": "stream",
     "text": [
      "/opt/conda/lib/python3.7/site-packages/seaborn/_decorators.py:43: FutureWarning: Pass the following variable as a keyword arg: x. From version 0.12, the only valid positional argument will be `data`, and passing other arguments without an explicit keyword will result in an error or misinterpretation.\n",
      "  FutureWarning\n"
     ]
    },
    {
     "data": {
      "image/png": "[encoded data removed]",
      "text/plain": [
       "<Figure size 432x288 with 1 Axes>"
      ]
     },
     "metadata": {
      "needs_background": "light"
     },
     "output_type": "display_data"
    }
   ],
   "source": [
    "sns.countplot(train_data['target'])\n",
    "plt.xlabel('Disaster Tweet Prediction');"
   ]
  },
  {
   "cell_type": "code",
   "execution_count": 13,
   "id": "f9ed50ad",
   "metadata": {
    "execution": {
     "iopub.execute_input": "2021-10-13T06:32:31.450697Z",
     "iopub.status.busy": "2021-10-13T06:32:31.449980Z",
     "iopub.status.idle": "2021-10-13T06:32:37.018720Z",
     "shell.execute_reply": "2021-10-13T06:32:37.018104Z",
     "shell.execute_reply.started": "2021-10-13T06:10:16.354466Z"
    },
    "papermill": {
     "duration": 5.605148,
     "end_time": "2021-10-13T06:32:37.018880",
     "exception": false,
     "start_time": "2021-10-13T06:32:31.413732",
     "status": "completed"
    },
    "tags": []
   },
   "outputs": [
    {
     "data": {
      "application/vnd.jupyter.widget-view+json": {
       "model_id": "7f6d18047eb848f5822bba2fc7751e84",
       "version_major": 2,
       "version_minor": 0
      },
      "text/plain": [
       "Downloading:   0%|          | 0.00/899k [00:00<?, ?B/s]"
      ]
     },
     "metadata": {},
     "output_type": "display_data"
    },
    {
     "data": {
      "application/vnd.jupyter.widget-view+json": {
       "model_id": "d1444dce01754bd6b2074b623209f78b",
       "version_major": 2,
       "version_minor": 0
      },
      "text/plain": [
       "Downloading:   0%|          | 0.00/456k [00:00<?, ?B/s]"
      ]
     },
     "metadata": {},
     "output_type": "display_data"
    },
    {
     "data": {
      "application/vnd.jupyter.widget-view+json": {
       "model_id": "5bffff5d4ec94945b5f8b126447db122",
       "version_major": 2,
       "version_minor": 0
      },
      "text/plain": [
       "Downloading:   0%|          | 0.00/1.36M [00:00<?, ?B/s]"
      ]
     },
     "metadata": {},
     "output_type": "display_data"
    }
   ],
   "source": [
    "tokenizer = RobertaTokenizer.from_pretrained(config['pre_trained_model_name'])"
   ]
  },
  {
   "cell_type": "code",
   "execution_count": 14,
   "id": "c0cdf2de",
   "metadata": {
    "execution": {
     "iopub.execute_input": "2021-10-13T06:32:37.093698Z",
     "iopub.status.busy": "2021-10-13T06:32:37.093032Z",
     "iopub.status.idle": "2021-10-13T06:32:40.804300Z",
     "shell.execute_reply": "2021-10-13T06:32:40.803460Z",
     "shell.execute_reply.started": "2021-10-13T06:10:18.729174Z"
    },
    "papermill": {
     "duration": 3.752021,
     "end_time": "2021-10-13T06:32:40.804471",
     "exception": false,
     "start_time": "2021-10-13T06:32:37.052450",
     "status": "completed"
    },
    "tags": []
   },
   "outputs": [
    {
     "name": "stderr",
     "output_type": "stream",
     "text": [
      "Truncation was not explicitly activated but `max_length` is provided a specific value, please use `truncation=True` to explicitly truncate examples to max length. Defaulting to 'longest_first' truncation strategy. If you encode pairs of sequences (GLUE-style) with the tokenizer you can select this strategy more precisely by providing a specific strategy to `truncation`.\n",
      "/opt/conda/lib/python3.7/site-packages/seaborn/distributions.py:2619: FutureWarning: `distplot` is a deprecated function and will be removed in a future version. Please adapt your code to use either `displot` (a figure-level function with similar flexibility) or `histplot` (an axes-level function for histograms).\n",
      "  warnings.warn(msg, FutureWarning)\n"
     ]
    },
    {
     "data": {
      "text/plain": [
       "Text(0.5, 0, 'Number of tokens')"
      ]
     },
     "execution_count": 14,
     "metadata": {},
     "output_type": "execute_result"
    },
    {
     "data": {
      "image/png": "[encoded data removed]",
      "text/plain": [
       "<Figure size 432x288 with 1 Axes>"
      ]
     },
     "metadata": {
      "needs_background": "light"
     },
     "output_type": "display_data"
    }
   ],
   "source": [
    "token_length = []\n",
    "\n",
    "for entry in train_data['text']:\n",
    "    tokens = tokenizer.encode(entry, max_length = 512) #max number of tokens in BERT cannot exceed 512\n",
    "    token_length.append(len(tokens))\n",
    "    \n",
    "\n",
    "sns.distplot(token_length)\n",
    "plt.xlabel('Number of tokens')"
   ]
  },
  {
   "cell_type": "code",
   "execution_count": 15,
   "id": "13735b6d",
   "metadata": {
    "execution": {
     "iopub.execute_input": "2021-10-13T06:32:40.883912Z",
     "iopub.status.busy": "2021-10-13T06:32:40.882699Z",
     "iopub.status.idle": "2021-10-13T06:32:40.885875Z",
     "shell.execute_reply": "2021-10-13T06:32:40.885378Z",
     "shell.execute_reply.started": "2021-10-13T06:10:21.327171Z"
    },
    "papermill": {
     "duration": 0.046193,
     "end_time": "2021-10-13T06:32:40.886014",
     "exception": false,
     "start_time": "2021-10-13T06:32:40.839821",
     "status": "completed"
    },
    "tags": []
   },
   "outputs": [],
   "source": [
    "class DisasterTweetDataSet(Dataset):\n",
    "    def __init__(self, text, target, tokenizer, max_length):\n",
    "        self.text = text\n",
    "        self.target = target\n",
    "        self.tokenizer = tokenizer\n",
    "        self.max_length = max_length\n",
    "    \n",
    "    def __len__(self):\n",
    "        return len(self.text)\n",
    "        \n",
    "    def __getitem__(self, item):\n",
    "        text = str(self.text[item])\n",
    "        target = self.target[item]\n",
    "        \n",
    "        #encoding returns a dictionary with 2 keys (input_ids, attention_mask)\n",
    "        encoding = self.tokenizer.encode_plus (\n",
    "          text,\n",
    "          add_special_tokens=True, # Add '[CLS]' and '[SEP]'\n",
    "          max_length=self.max_length,\n",
    "          return_token_type_ids=False,\n",
    "          padding='max_length',\n",
    "          return_attention_mask=True,\n",
    "          return_tensors='pt', # Return PyTorch tensors\n",
    "        )\n",
    "        \n",
    "        return {\n",
    "            'tweet' : text,\n",
    "            'input_ids' : encoding['input_ids'].flatten(),\n",
    "            'attention_mask' : encoding['attention_mask'].flatten(),\n",
    "            'targets' : torch.tensor(target, dtype = torch.long)\n",
    "        }"
   ]
  },
  {
   "cell_type": "code",
   "execution_count": 16,
   "id": "ce19277e",
   "metadata": {
    "execution": {
     "iopub.execute_input": "2021-10-13T06:32:40.962575Z",
     "iopub.status.busy": "2021-10-13T06:32:40.961749Z",
     "iopub.status.idle": "2021-10-13T06:32:40.967528Z",
     "shell.execute_reply": "2021-10-13T06:32:40.968085Z",
     "shell.execute_reply.started": "2021-10-13T06:10:21.336588Z"
    },
    "papermill": {
     "duration": 0.047025,
     "end_time": "2021-10-13T06:32:40.968230",
     "exception": false,
     "start_time": "2021-10-13T06:32:40.921205",
     "status": "completed"
    },
    "tags": []
   },
   "outputs": [],
   "source": [
    "df_train, df_val = train_test_split(\n",
    "    train_data,\n",
    "    test_size = 0.2,\n",
    "    random_state = 42\n",
    ")"
   ]
  },
  {
   "cell_type": "code",
   "execution_count": 17,
   "id": "ed46e166",
   "metadata": {
    "execution": {
     "iopub.execute_input": "2021-10-13T06:32:41.041224Z",
     "iopub.status.busy": "2021-10-13T06:32:41.040431Z",
     "iopub.status.idle": "2021-10-13T06:32:41.044905Z",
     "shell.execute_reply": "2021-10-13T06:32:41.045621Z",
     "shell.execute_reply.started": "2021-10-13T06:10:21.351211Z"
    },
    "papermill": {
     "duration": 0.043866,
     "end_time": "2021-10-13T06:32:41.045830",
     "exception": false,
     "start_time": "2021-10-13T06:32:41.001964",
     "status": "completed"
    },
    "tags": []
   },
   "outputs": [
    {
     "name": "stdout",
     "output_type": "stream",
     "text": [
      "(6090, 5)\n",
      "(1523, 5)\n"
     ]
    }
   ],
   "source": [
    "print(df_train.shape)\n",
    "print(df_val.shape)"
   ]
  },
  {
   "cell_type": "code",
   "execution_count": 18,
   "id": "ae0f49b7",
   "metadata": {
    "execution": {
     "iopub.execute_input": "2021-10-13T06:32:41.123501Z",
     "iopub.status.busy": "2021-10-13T06:32:41.120519Z",
     "iopub.status.idle": "2021-10-13T06:32:41.127021Z",
     "shell.execute_reply": "2021-10-13T06:32:41.126519Z",
     "shell.execute_reply.started": "2021-10-13T06:10:21.360321Z"
    },
    "papermill": {
     "duration": 0.045267,
     "end_time": "2021-10-13T06:32:41.127150",
     "exception": false,
     "start_time": "2021-10-13T06:32:41.081883",
     "status": "completed"
    },
    "tags": []
   },
   "outputs": [],
   "source": [
    "def create_data_loader(df, tokenizer, max_length, batch_size):\n",
    "    dataset = DisasterTweetDataSet(\n",
    "                df['text'].to_numpy(),\n",
    "                df['target'].to_numpy(),\n",
    "                tokenizer,\n",
    "                max_length = max_length\n",
    "            )\n",
    "    \n",
    "    return DataLoader(\n",
    "        dataset,\n",
    "        batch_size = batch_size,\n",
    "        num_workers = 4\n",
    "    )"
   ]
  },
  {
   "cell_type": "code",
   "execution_count": 19,
   "id": "abd2438e",
   "metadata": {
    "execution": {
     "iopub.execute_input": "2021-10-13T06:32:41.202138Z",
     "iopub.status.busy": "2021-10-13T06:32:41.201055Z",
     "iopub.status.idle": "2021-10-13T06:32:41.208713Z",
     "shell.execute_reply": "2021-10-13T06:32:41.209169Z",
     "shell.execute_reply.started": "2021-10-13T06:10:21.368762Z"
    },
    "papermill": {
     "duration": 0.046584,
     "end_time": "2021-10-13T06:32:41.209322",
     "exception": false,
     "start_time": "2021-10-13T06:32:41.162738",
     "status": "completed"
    },
    "tags": []
   },
   "outputs": [],
   "source": [
    "class DisasterTweetClassifier(nn.Module):\n",
    "    def __init__(self,  config):\n",
    "        super(DisasterTweetClassifier, self).__init__()\n",
    "        self.robert = RobertaModel.from_pretrained(config['pre_trained_model_name'])\n",
    "        self.drop = nn.Dropout(p=0.3)\n",
    "        self.out = nn.Linear(self.robert.config.hidden_size, 2)\n",
    "    def forward(self, input_ids, attention_mask):\n",
    "        _, pooled_output = self.robert(\n",
    "          input_ids=input_ids,\n",
    "          attention_mask=attention_mask,\n",
    "        return_dict = False\n",
    "        )\n",
    "        \n",
    "        output = self.drop(pooled_output)\n",
    "        return self.out(output)"
   ]
  },
  {
   "cell_type": "code",
   "execution_count": 20,
   "id": "a3719654",
   "metadata": {
    "execution": {
     "iopub.execute_input": "2021-10-13T06:32:41.283925Z",
     "iopub.status.busy": "2021-10-13T06:32:41.282659Z",
     "iopub.status.idle": "2021-10-13T06:32:41.293361Z",
     "shell.execute_reply": "2021-10-13T06:32:41.292812Z",
     "shell.execute_reply.started": "2021-10-13T06:10:21.379145Z"
    },
    "papermill": {
     "duration": 0.048258,
     "end_time": "2021-10-13T06:32:41.293537",
     "exception": false,
     "start_time": "2021-10-13T06:32:41.245279",
     "status": "completed"
    },
    "tags": []
   },
   "outputs": [],
   "source": [
    "def train_epoch(\n",
    "        model,\n",
    "        data_loader,\n",
    "        loss_fn,\n",
    "        optimizer,\n",
    "        scheduler,\n",
    "        device,\n",
    "        n_examples,\n",
    "       ):\n",
    "    model.train()\n",
    "    wandb.watch(model, loss_fn, log=\"all\", log_freq=10)\n",
    "    losses = []\n",
    "    correct_predictions = 0\n",
    "    \n",
    "    for data in data_loader:                   \n",
    "        input_ids = data['input_ids'].to(device)\n",
    "        attention_mask = data['attention_mask'].to(device)\n",
    "        targets = data['targets'].to(device)\n",
    "        \n",
    "        outputs = model(input_ids = input_ids, attention_mask = attention_mask)\n",
    "        \n",
    "        _, preds = torch.max(outputs, dim = 1)\n",
    "        \n",
    "        loss = loss_fn(outputs, targets)\n",
    "        \n",
    "        correct_predictions += torch.sum(preds == targets)\n",
    "        \n",
    "        losses.append(loss.item())\n",
    "        \n",
    "        \n",
    "        loss.backward()\n",
    "        \n",
    "        nn.utils.clip_grad_norm_(model.parameters(), max_norm = 1.0)\n",
    "        optimizer.step()\n",
    "        scheduler.step()\n",
    "        optimizer.zero_grad()\n",
    "                       \n",
    "    return correct_predictions.double()/n_examples, np.mean(losses)"
   ]
  },
  {
   "cell_type": "code",
   "execution_count": 21,
   "id": "d8fcc7fd",
   "metadata": {
    "execution": {
     "iopub.execute_input": "2021-10-13T06:32:41.369039Z",
     "iopub.status.busy": "2021-10-13T06:32:41.367990Z",
     "iopub.status.idle": "2021-10-13T06:32:41.377198Z",
     "shell.execute_reply": "2021-10-13T06:32:41.376566Z",
     "shell.execute_reply.started": "2021-10-13T06:10:21.392015Z"
    },
    "papermill": {
     "duration": 0.047711,
     "end_time": "2021-10-13T06:32:41.377355",
     "exception": false,
     "start_time": "2021-10-13T06:32:41.329644",
     "status": "completed"
    },
    "tags": []
   },
   "outputs": [],
   "source": [
    "def eval_epoch(\n",
    "        model,\n",
    "        data_loader,\n",
    "        loss_fn,\n",
    "        device,\n",
    "        n_examples\n",
    "):\n",
    "    model = model.eval()\n",
    "    losses = []\n",
    "    correct_predictions = 0\n",
    "    \n",
    "    with torch.no_grad():\n",
    "        for data in data_loader:\n",
    "            input_ids = data[\"input_ids\"].to(device)\n",
    "            attention_mask = data[\"attention_mask\"].to(device)\n",
    "            targets = data[\"targets\"].to(device)\n",
    "            \n",
    "            outputs = model(\n",
    "             input_ids=input_ids,\n",
    "            attention_mask=attention_mask\n",
    "            ) \n",
    "            \n",
    "            _, preds = torch.max(outputs, dim=1)\n",
    "            loss = loss_fn(outputs, targets)\n",
    "\n",
    "            correct_predictions += torch.sum(preds == targets)\n",
    "            losses.append(loss.item())\n",
    "            \n",
    "            accuracy = correct_predictions.double()/n_examples\n",
    "\n",
    "            \n",
    "        return accuracy, np.mean(losses)"
   ]
  },
  {
   "cell_type": "code",
   "execution_count": 22,
   "id": "96c3a5d6",
   "metadata": {
    "execution": {
     "iopub.execute_input": "2021-10-13T06:32:41.452360Z",
     "iopub.status.busy": "2021-10-13T06:32:41.451532Z",
     "iopub.status.idle": "2021-10-13T06:32:41.455154Z",
     "shell.execute_reply": "2021-10-13T06:32:41.454632Z",
     "shell.execute_reply.started": "2021-10-13T06:10:21.402750Z"
    },
    "papermill": {
     "duration": 0.04348,
     "end_time": "2021-10-13T06:32:41.455289",
     "exception": false,
     "start_time": "2021-10-13T06:32:41.411809",
     "status": "completed"
    },
    "tags": []
   },
   "outputs": [],
   "source": [
    "def plot_accuracy(history):\n",
    "    plt.plot(history['train_acc'], label = 'training accuracy')\n",
    "    plt.plot(history['val_acc'], label = 'validation accuracy')\n",
    "\n",
    "    plt.xlabel(\"Epochs\")\n",
    "    plt.ylabel(\"Accuracy\")\n",
    "    plt.title(\"Training History\")"
   ]
  },
  {
   "cell_type": "code",
   "execution_count": 23,
   "id": "634a0001",
   "metadata": {
    "execution": {
     "iopub.execute_input": "2021-10-13T06:32:41.533328Z",
     "iopub.status.busy": "2021-10-13T06:32:41.532418Z",
     "iopub.status.idle": "2021-10-13T06:32:41.536006Z",
     "shell.execute_reply": "2021-10-13T06:32:41.535438Z",
     "shell.execute_reply.started": "2021-10-13T06:10:21.413863Z"
    },
    "papermill": {
     "duration": 0.04639,
     "end_time": "2021-10-13T06:32:41.536154",
     "exception": false,
     "start_time": "2021-10-13T06:32:41.489764",
     "status": "completed"
    },
    "tags": []
   },
   "outputs": [],
   "source": [
    "class PredictTestDataset(Dataset):\n",
    "    def __init__(self, text,tokenizer, max_length):\n",
    "        self.text = text\n",
    "        self.tokenizer = tokenizer\n",
    "        self.max_length = max_length\n",
    "    \n",
    "    def __len__(self):\n",
    "        return len(self.text)\n",
    "        \n",
    "    def __getitem__(self, item):\n",
    "        text = str(self.text[item])\n",
    "        \n",
    "        #encoding returns a dictionary with 2 keys (input_ids, attention_mask)\n",
    "        encoding = self.tokenizer.encode_plus(\n",
    "          text,\n",
    "          add_special_tokens=True, # Add '[CLS]' and '[SEP]'\n",
    "          max_length=self.max_length,\n",
    "          return_token_type_ids=False,\n",
    "          padding='max_length',\n",
    "          return_attention_mask=True,\n",
    "          return_tensors='pt', # Return PyTorch tensors\n",
    "        )\n",
    "        \n",
    "        return {\n",
    "            'tweet' : text,\n",
    "            'input_ids' : encoding['input_ids'].flatten(),\n",
    "            'attention_mask' : encoding['attention_mask'].flatten(),\n",
    "        }"
   ]
  },
  {
   "cell_type": "code",
   "execution_count": 24,
   "id": "34cf6c74",
   "metadata": {
    "execution": {
     "iopub.execute_input": "2021-10-13T06:32:41.612923Z",
     "iopub.status.busy": "2021-10-13T06:32:41.611691Z",
     "iopub.status.idle": "2021-10-13T06:32:41.615097Z",
     "shell.execute_reply": "2021-10-13T06:32:41.614462Z",
     "shell.execute_reply.started": "2021-10-13T06:10:21.424623Z"
    },
    "papermill": {
     "duration": 0.043648,
     "end_time": "2021-10-13T06:32:41.615228",
     "exception": false,
     "start_time": "2021-10-13T06:32:41.571580",
     "status": "completed"
    },
    "tags": []
   },
   "outputs": [],
   "source": [
    "def create_test_data_loader(df, tokenizer, max_length, batch_size):\n",
    "    dataset = PredictTestDataset(\n",
    "                df['text'].to_numpy(),\n",
    "                tokenizer,\n",
    "                max_length = max_length\n",
    "            )\n",
    "    \n",
    "    return DataLoader(\n",
    "        dataset,\n",
    "        batch_size = batch_size,\n",
    "        num_workers = 4\n",
    "    )"
   ]
  },
  {
   "cell_type": "code",
   "execution_count": 25,
   "id": "258001e3",
   "metadata": {
    "execution": {
     "iopub.execute_input": "2021-10-13T06:32:41.693611Z",
     "iopub.status.busy": "2021-10-13T06:32:41.689558Z",
     "iopub.status.idle": "2021-10-13T06:32:41.696718Z",
     "shell.execute_reply": "2021-10-13T06:32:41.696096Z",
     "shell.execute_reply.started": "2021-10-13T06:10:21.436795Z"
    },
    "papermill": {
     "duration": 0.045807,
     "end_time": "2021-10-13T06:32:41.696892",
     "exception": false,
     "start_time": "2021-10-13T06:32:41.651085",
     "status": "completed"
    },
    "tags": []
   },
   "outputs": [],
   "source": [
    "def predict(\n",
    "        model,\n",
    "        data_loader,\n",
    "        device,\n",
    "):\n",
    "    model = model.eval()\n",
    "    \n",
    "    predictions = []\n",
    "    \n",
    "    with torch.no_grad():\n",
    "        for data in data_loader:\n",
    "            input_ids = data[\"input_ids\"].to(device)\n",
    "            attention_mask = data[\"attention_mask\"].to(device)\n",
    "            \n",
    "            outputs = model(\n",
    "             input_ids=input_ids,\n",
    "            attention_mask=attention_mask\n",
    "            ) \n",
    "            \n",
    "            _, preds = torch.max(outputs, dim=1)\n",
    "\n",
    "            for val in preds.tolist():\n",
    "                predictions.append(val)\n",
    "    \n",
    "    return predictions"
   ]
  },
  {
   "cell_type": "code",
   "execution_count": 26,
   "id": "40de468c",
   "metadata": {
    "execution": {
     "iopub.execute_input": "2021-10-13T06:32:41.773533Z",
     "iopub.status.busy": "2021-10-13T06:32:41.772477Z",
     "iopub.status.idle": "2021-10-13T06:32:41.775594Z",
     "shell.execute_reply": "2021-10-13T06:32:41.776150Z",
     "shell.execute_reply.started": "2021-10-13T06:10:21.446564Z"
    },
    "papermill": {
     "duration": 0.045157,
     "end_time": "2021-10-13T06:32:41.776311",
     "exception": false,
     "start_time": "2021-10-13T06:32:41.731154",
     "status": "completed"
    },
    "tags": []
   },
   "outputs": [],
   "source": [
    "def show_confusion_matrix(confusion_matrix):\n",
    "    hmap = sns.heatmap(confusion_matrix, annot=True, fmt=\"d\", cmap=\"Blues\")\n",
    "    hmap.yaxis.set_ticklabels(hmap.yaxis.get_ticklabels(), rotation=0, ha='right')\n",
    "    hmap.xaxis.set_ticklabels(hmap.xaxis.get_ticklabels(), rotation=30, ha='right')\n",
    "    plt.ylabel('True sentiment')\n",
    "    plt.xlabel('Predicted sentiment');"
   ]
  },
  {
   "cell_type": "code",
   "execution_count": 27,
   "id": "89318d4c",
   "metadata": {
    "execution": {
     "iopub.execute_input": "2021-10-13T06:32:41.853811Z",
     "iopub.status.busy": "2021-10-13T06:32:41.851568Z",
     "iopub.status.idle": "2021-10-13T06:32:41.856941Z",
     "shell.execute_reply": "2021-10-13T06:32:41.856340Z",
     "shell.execute_reply.started": "2021-10-13T06:10:21.455411Z"
    },
    "papermill": {
     "duration": 0.044981,
     "end_time": "2021-10-13T06:32:41.857075",
     "exception": false,
     "start_time": "2021-10-13T06:32:41.812094",
     "status": "completed"
    },
    "tags": []
   },
   "outputs": [],
   "source": [
    "def generate_submission_csv(predictions):\n",
    "    submission_df = pd.read_csv('/kaggle/input/nlp-getting-started/sample_submission.csv')\n",
    "\n",
    "    submission_df['id'] = test_data['id']\n",
    "    submission_df['target'] = predictions\n",
    "    \n",
    "    sns.countplot(submission_df['target'])\n",
    "    plt.xlabel('Disaster Tweet Test Prediction')\n",
    "               \n",
    "    submission_df.to_csv('roberta-base.csv', index = False)\n"
   ]
  },
  {
   "cell_type": "code",
   "execution_count": 28,
   "id": "9474a0c6",
   "metadata": {
    "execution": {
     "iopub.execute_input": "2021-10-13T06:32:41.944587Z",
     "iopub.status.busy": "2021-10-13T06:32:41.943450Z",
     "iopub.status.idle": "2021-10-13T06:32:41.946846Z",
     "shell.execute_reply": "2021-10-13T06:32:41.946202Z",
     "shell.execute_reply.started": "2021-10-13T06:10:21.469113Z"
    },
    "papermill": {
     "duration": 0.053672,
     "end_time": "2021-10-13T06:32:41.946996",
     "exception": false,
     "start_time": "2021-10-13T06:32:41.893324",
     "status": "completed"
    },
    "tags": []
   },
   "outputs": [],
   "source": [
    "def model_pipeline(hyperparameters):\n",
    "    # tell wandb to get started\n",
    "    \n",
    "    with wandb.init(project=\"Disaster-Tweet-Prediction\", group=\"roberta-base\", config=hyperparameters):\n",
    "    # access all HPs through wandb.config, so logging matches execution!\n",
    "        config = wandb.config\n",
    "    \n",
    "        train_data_loader = create_data_loader(df_train, tokenizer, config.max_length, config.batch_size)\n",
    "        val_data_loader = create_data_loader(df_val, tokenizer, config.max_length, config.batch_size)\n",
    "        \n",
    "        model = DisasterTweetClassifier(config).to(device)\n",
    "        \n",
    "        optimizer = AdamW(model.parameters(), lr=config.learning_rate, correct_bias=False)\n",
    "\n",
    "        total_steps = len(train_data_loader) * config.epochs\n",
    "\n",
    "        scheduler = get_linear_schedule_with_warmup(\n",
    "          optimizer,\n",
    "          num_warmup_steps=0,\n",
    "          num_training_steps=total_steps\n",
    "        )\n",
    "\n",
    "        loss_fn = nn.CrossEntropyLoss().to(device)\n",
    "        \n",
    "        history = defaultdict(list)\n",
    "        best_accuracy = 0\n",
    "     \n",
    "        for epoch in range(config.epochs):\n",
    "            print(f'Epoch {epoch + 1}/{config.epochs}')\n",
    "            print('-' * 10)\n",
    "\n",
    "            train_acc, train_loss = train_epoch(model, train_data_loader, loss_fn, optimizer, scheduler, \n",
    "                                                             device, len(df_train))\n",
    "\n",
    "            print(f'Train loss {train_loss} accuracy {train_acc}')\n",
    "\n",
    "            val_acc, val_loss = eval_epoch(model, val_data_loader, loss_fn, device, len(df_val))\n",
    "\n",
    "            print(f'Val   loss {val_loss} accuracy {val_acc}')\n",
    "\n",
    "            wandb.log({\n",
    "            \"Epoch\": epoch,\n",
    "            \"Train Loss\": train_loss,\n",
    "            \"Train Acc\": train_acc,\n",
    "            \"Valid Loss\": val_loss,\n",
    "            \"Valid Acc\": val_acc})\n",
    "            \n",
    "            history['train_acc'].append(train_acc)\n",
    "            history['train_loss'].append(train_loss)\n",
    "            history['val_loss'].append(val_loss)\n",
    "            history['val_acc'].append(val_acc)\n",
    "\n",
    "            if val_acc > best_accuracy:\n",
    "                torch.save(model.state_dict(), 'bert_base_cased.bin')\n",
    "                best_accuracy = val_acc\n",
    "                    \n",
    "        test_data_loader = create_test_data_loader(test_data, tokenizer, config['max_length'], config['batch_size'])\n",
    "        \n",
    "        predictions = predict(model, test_data_loader, device)\n",
    "        \n",
    "        generate_submission_csv(predictions)\n",
    "    \n",
    "    return model"
   ]
  },
  {
   "cell_type": "code",
   "execution_count": 29,
   "id": "acbb5b15",
   "metadata": {
    "execution": {
     "iopub.execute_input": "2021-10-13T06:32:42.028776Z",
     "iopub.status.busy": "2021-10-13T06:32:42.028102Z",
     "iopub.status.idle": "2021-10-13T06:52:34.858051Z",
     "shell.execute_reply": "2021-10-13T06:52:34.858677Z",
     "shell.execute_reply.started": "2021-10-13T06:10:21.484801Z"
    },
    "papermill": {
     "duration": 1192.876062,
     "end_time": "2021-10-13T06:52:34.858899",
     "exception": false,
     "start_time": "2021-10-13T06:32:41.982837",
     "status": "completed"
    },
    "tags": []
   },
   "outputs": [
    {
     "name": "stderr",
     "output_type": "stream",
     "text": [
      "\u001b[34m\u001b[1mwandb\u001b[0m: Currently logged in as: \u001b[33mkushv16\u001b[0m (use `wandb login --relogin` to force relogin)\n",
      "\u001b[34m\u001b[1mwandb\u001b[0m: wandb version 0.12.4 is available!  To upgrade, please run:\n",
      "\u001b[34m\u001b[1mwandb\u001b[0m:  $ pip install wandb --upgrade\n",
      "2021-10-13 06:32:43.936755: I tensorflow/stream_executor/platform/default/dso_loader.cc:49] Successfully opened dynamic library libcudart.so.11.0\n"
     ]
    },
    {
     "data": {
      "text/html": [
       "\n",
       "                Tracking run with wandb version 0.12.2<br/>\n",
       "                Syncing run <strong style=\"color:#cdcd00\">light-water-49</strong> to <a href=\"https://wandb.ai\" target=\"_blank\">Weights & Biases</a> <a href=\"https://docs.wandb.com/integrations/jupyter.html\" target=\"_blank\">(Documentation)</a>.<br/>\n",
       "                Project page: <a href=\"https://wandb.ai/kushv16/Disaster-Tweet-Prediction\" target=\"_blank\">https://wandb.ai/kushv16/Disaster-Tweet-Prediction</a><br/>\n",
       "                Run page: <a href=\"https://wandb.ai/kushv16/Disaster-Tweet-Prediction/runs/19qgjwss\" target=\"_blank\">https://wandb.ai/kushv16/Disaster-Tweet-Prediction/runs/19qgjwss</a><br/>\n",
       "                Run data is saved locally in <code>/kaggle/working/wandb/run-20211013_063242-19qgjwss</code><br/><br/>\n",
       "            "
      ],
      "text/plain": [
       "<IPython.core.display.HTML object>"
      ]
     },
     "metadata": {},
     "output_type": "display_data"
    },
    {
     "data": {
      "application/vnd.jupyter.widget-view+json": {
       "model_id": "65f74b7bcb5c4d24827b76eb994403c4",
       "version_major": 2,
       "version_minor": 0
      },
      "text/plain": [
       "Downloading:   0%|          | 0.00/481 [00:00<?, ?B/s]"
      ]
     },
     "metadata": {},
     "output_type": "display_data"
    },
    {
     "name": "stderr",
     "output_type": "stream",
     "text": [
      "\n",
      "CondaEnvException: Unable to determine environment\n",
      "\n",
      "Please re-run this command with one of the following options:\n",
      "\n",
      "* Provide an environment name via --name or -n\n",
      "* Re-run this command inside an activated conda environment.\n",
      "\n"
     ]
    },
    {
     "data": {
      "application/vnd.jupyter.widget-view+json": {
       "model_id": "7a9215e150d04daa96ff97c9ecf33b59",
       "version_major": 2,
       "version_minor": 0
      },
      "text/plain": [
       "Downloading:   0%|          | 0.00/501M [00:00<?, ?B/s]"
      ]
     },
     "metadata": {},
     "output_type": "display_data"
    },
    {
     "name": "stdout",
     "output_type": "stream",
     "text": [
      "Epoch 1/2\n",
      "----------\n",
      "Train loss 0.4670897446709668 accuracy 0.797208538587849\n",
      "Val   loss 0.37963726732414216 accuracy 0.8483256730137885\n",
      "Epoch 2/2\n",
      "----------\n",
      "Train loss 0.35034559510667806 accuracy 0.8614121510673235\n",
      "Val   loss 0.40148642713514465 accuracy 0.8371634931057124\n"
     ]
    },
    {
     "name": "stderr",
     "output_type": "stream",
     "text": [
      "/opt/conda/lib/python3.7/site-packages/seaborn/_decorators.py:43: FutureWarning: Pass the following variable as a keyword arg: x. From version 0.12, the only valid positional argument will be `data`, and passing other arguments without an explicit keyword will result in an error or misinterpretation.\n",
      "  FutureWarning\n"
     ]
    },
    {
     "data": {
      "text/html": [
       "<br/>Waiting for W&B process to finish, PID 80<br/>Program ended successfully."
      ],
      "text/plain": [
       "<IPython.core.display.HTML object>"
      ]
     },
     "metadata": {},
     "output_type": "display_data"
    },
    {
     "data": {
      "application/vnd.jupyter.widget-view+json": {
       "model_id": "cb8f7c038df147958545b39a77278ad8",
       "version_major": 2,
       "version_minor": 0
      },
      "text/plain": [
       "VBox(children=(Label(value=' 0.00MB of 0.00MB uploaded (0.00MB deduped)\\r'), FloatProgress(value=1.0, max=1.0)…"
      ]
     },
     "metadata": {},
     "output_type": "display_data"
    },
    {
     "data": {
      "text/html": [
       "Find user logs for this run at: <code>/kaggle/working/wandb/run-20211013_063242-19qgjwss/logs/debug.log</code>"
      ],
      "text/plain": [
       "<IPython.core.display.HTML object>"
      ]
     },
     "metadata": {},
     "output_type": "display_data"
    },
    {
     "data": {
      "text/html": [
       "Find internal logs for this run at: <code>/kaggle/working/wandb/run-20211013_063242-19qgjwss/logs/debug-internal.log</code>"
      ],
      "text/plain": [
       "<IPython.core.display.HTML object>"
      ]
     },
     "metadata": {},
     "output_type": "display_data"
    },
    {
     "data": {
      "text/html": [
       "<h3>Run summary:</h3><br/><style>\n",
       "    table.wandb td:nth-child(1) { padding: 0 10px; text-align: right }\n",
       "    </style><table class=\"wandb\">\n",
       "<tr><td>Epoch</td><td>1</td></tr><tr><td>Train Acc</td><td>0.86141</td></tr><tr><td>Train Loss</td><td>0.35035</td></tr><tr><td>Valid Acc</td><td>0.83716</td></tr><tr><td>Valid Loss</td><td>0.40149</td></tr></table>"
      ],
      "text/plain": [
       "<IPython.core.display.HTML object>"
      ]
     },
     "metadata": {},
     "output_type": "display_data"
    },
    {
     "data": {
      "text/html": [
       "<h3>Run history:</h3><br/><style>\n",
       "    table.wandb td:nth-child(1) { padding: 0 10px; text-align: right }\n",
       "    </style><table class=\"wandb\">\n",
       "<tr><td>Epoch</td><td>▁█</td></tr><tr><td>Train Acc</td><td>▁█</td></tr><tr><td>Train Loss</td><td>█▁</td></tr><tr><td>Valid Acc</td><td>█▁</td></tr><tr><td>Valid Loss</td><td>▁█</td></tr></table><br/>"
      ],
      "text/plain": [
       "<IPython.core.display.HTML object>"
      ]
     },
     "metadata": {},
     "output_type": "display_data"
    },
    {
     "data": {
      "text/html": [
       "Synced 5 W&B file(s), 0 media file(s), 0 artifact file(s) and 0 other file(s)"
      ],
      "text/plain": [
       "<IPython.core.display.HTML object>"
      ]
     },
     "metadata": {},
     "output_type": "display_data"
    },
    {
     "data": {
      "text/html": [
       "\n",
       "                    <br/>Synced <strong style=\"color:#cdcd00\">light-water-49</strong>: <a href=\"https://wandb.ai/kushv16/Disaster-Tweet-Prediction/runs/19qgjwss\" target=\"_blank\">https://wandb.ai/kushv16/Disaster-Tweet-Prediction/runs/19qgjwss</a><br/>\n",
       "                "
      ],
      "text/plain": [
       "<IPython.core.display.HTML object>"
      ]
     },
     "metadata": {},
     "output_type": "display_data"
    },
    {
     "name": "stdout",
     "output_type": "stream",
     "text": [
      "CPU times: user 16min 34s, sys: 2min 53s, total: 19min 28s\n",
      "Wall time: 19min 52s\n"
     ]
    },
    {
     "data": {
      "image/png": "[encoded data removed]",
      "text/plain": [
       "<Figure size 432x288 with 1 Axes>"
      ]
     },
     "metadata": {
      "needs_background": "light"
     },
     "output_type": "display_data"
    }
   ],
   "source": [
    "%%time\n",
    "model = model_pipeline(config)"
   ]
  },
  {
   "cell_type": "code",
   "execution_count": null,
   "id": "f8f4cc0c",
   "metadata": {
    "papermill": {
     "duration": 0.045398,
     "end_time": "2021-10-13T06:52:34.951099",
     "exception": false,
     "start_time": "2021-10-13T06:52:34.905701",
     "status": "completed"
    },
    "tags": []
   },
   "outputs": [],
   "source": []
  },
  {
   "cell_type": "code",
   "execution_count": null,
   "id": "8314b887",
   "metadata": {
    "papermill": {
     "duration": 0.046746,
     "end_time": "2021-10-13T06:52:35.042148",
     "exception": false,
     "start_time": "2021-10-13T06:52:34.995402",
     "status": "completed"
    },
    "tags": []
   },
   "outputs": [],
   "source": []
  }
 ],
 "metadata": {
  "kernelspec": {
   "display_name": "Python 3",
   "language": "python",
   "name": "python3"
  },
  "language_info": {
   "codemirror_mode": {
    "name": "ipython",
    "version": 3
   },
   "file_extension": ".py",
   "mimetype": "text/x-python",
   "name": "python",
   "nbconvert_exporter": "python",
   "pygments_lexer": "ipython3",
   "version": "3.7.10"
  },
  "papermill": {
   "default_parameters": {},
   "duration": 1233.190543,
   "end_time": "2021-10-13T06:52:38.720046",
   "environment_variables": {},
   "exception": null,
   "input_path": "__notebook__.ipynb",
   "output_path": "__notebook__.ipynb",
   "parameters": {},
   "start_time": "2021-10-13T06:32:05.529503",
   "version": "2.3.3"
  },
  "widgets": {
   "application/vnd.jupyter.widget-state+json": {
    "state": {
     "07bff435d1574bc590bb6185d74a7ebb": {
      "model_module": "@jupyter-widgets/base",
      "model_module_version": "1.2.0",
      "model_name": "LayoutModel",
      "state": {
       "_model_module": "@jupyter-widgets/base",
       "_model_module_version": "1.2.0",
       "_model_name": "LayoutModel",
       "_view_count": null,
       "_view_module": "@jupyter-widgets/base",
       "_view_module_version": "1.2.0",
       "_view_name": "LayoutView",
       "align_content": null,
       "align_items": null,
       "align_self": null,
       "border": null,
       "bottom": null,
       "display": null,
       "flex": null,
       "flex_flow": null,
       "grid_area": null,
       "grid_auto_columns": null,
       "grid_auto_flow": null,
       "grid_auto_rows": null,
       "grid_column": null,
       "grid_gap": null,
       "grid_row": null,
       "grid_template_areas": null,
       "grid_template_columns": null,
       "grid_template_rows": null,
       "height": null,
       "justify_content": null,
       "justify_items": null,
       "left": null,
       "margin": null,
       "max_height": null,
       "max_width": null,
       "min_height": null,
       "min_width": null,
       "object_fit": null,
       "object_position": null,
       "order": null,
       "overflow": null,
       "overflow_x": null,
       "overflow_y": null,
       "padding": null,
       "right": null,
       "top": null,
       "visibility": null,
       "width": null
      }
     },
     "08d42d2654a74c7983961c3bbb66a2ee": {
      "model_module": "@jupyter-widgets/controls",
      "model_module_version": "1.5.0",
      "model_name": "HTMLModel",
      "state": {
       "_dom_classes": [],
       "_model_module": "@jupyter-widgets/controls",
       "_model_module_version": "1.5.0",
       "_model_name": "HTMLModel",
       "_view_count": null,
       "_view_module": "@jupyter-widgets/controls",
       "_view_module_version": "1.5.0",
       "_view_name": "HTMLView",
       "description": "",
       "description_tooltip": null,
       "layout": "IPY_MODEL_bba8b321465e418285c7dc20282ff3cb",
       "placeholder": "​",
       "style": "IPY_MODEL_756856b19dfd4bc0a3ce446cfaf0bed0",
       "value": "Downloading: 100%"
      }
     },
     "0e14735a010a4b148c5d4a6469e908de": {
      "model_module": "@jupyter-widgets/controls",
      "model_module_version": "1.5.0",
      "model_name": "FloatProgressModel",
      "state": {
       "_dom_classes": [],
       "_model_module": "@jupyter-widgets/controls",
       "_model_module_version": "1.5.0",
       "_model_name": "FloatProgressModel",
       "_view_count": null,
       "_view_module": "@jupyter-widgets/controls",
       "_view_module_version": "1.5.0",
       "_view_name": "ProgressView",
       "bar_style": "success",
       "description": "",
       "description_tooltip": null,
       "layout": "IPY_MODEL_2764c5c88cb94d1fad6ffef72bab46c5",
       "max": 481.0,
       "min": 0.0,
       "orientation": "horizontal",
       "style": "IPY_MODEL_f2fddcd3218e461cba8ae80a9df967b9",
       "value": 481.0
      }
     },
     "1376467925d545d28e3bddc0a7925358": {
      "model_module": "@jupyter-widgets/controls",
      "model_module_version": "1.5.0",
      "model_name": "FloatProgressModel",
      "state": {
       "_dom_classes": [],
       "_model_module": "@jupyter-widgets/controls",
       "_model_module_version": "1.5.0",
       "_model_name": "FloatProgressModel",
       "_view_count": null,
       "_view_module": "@jupyter-widgets/controls",
       "_view_module_version": "1.5.0",
       "_view_name": "ProgressView",
       "bar_style": "success",
       "description": "",
       "description_tooltip": null,
       "layout": "IPY_MODEL_07bff435d1574bc590bb6185d74a7ebb",
       "max": 898823.0,
       "min": 0.0,
       "orientation": "horizontal",
       "style": "IPY_MODEL_e5bf9775987d4caeb689d3cbec50bf6d",
       "value": 898823.0
      }
     },
     "13cdf964bfdb46dcbf78232d46d3604a": {
      "model_module": "@jupyter-widgets/base",
      "model_module_version": "1.2.0",
      "model_name": "LayoutModel",
      "state": {
       "_model_module": "@jupyter-widgets/base",
       "_model_module_version": "1.2.0",
       "_model_name": "LayoutModel",
       "_view_count": null,
       "_view_module": "@jupyter-widgets/base",
       "_view_module_version": "1.2.0",
       "_view_name": "LayoutView",
       "align_content": null,
       "align_items": null,
       "align_self": null,
       "border": null,
       "bottom": null,
       "display": null,
       "flex": null,
       "flex_flow": null,
       "grid_area": null,
       "grid_auto_columns": null,
       "grid_auto_flow": null,
       "grid_auto_rows": null,
       "grid_column": null,
       "grid_gap": null,
       "grid_row": null,
       "grid_template_areas": null,
       "grid_template_columns": null,
       "grid_template_rows": null,
       "height": null,
       "justify_content": null,
       "justify_items": null,
       "left": null,
       "margin": null,
       "max_height": null,
       "max_width": null,
       "min_height": null,
       "min_width": null,
       "object_fit": null,
       "object_position": null,
       "order": null,
       "overflow": null,
       "overflow_x": null,
       "overflow_y": null,
       "padding": null,
       "right": null,
       "top": null,
       "visibility": null,
       "width": null
      }
     },
     "145f618be07946ef9a6ebda49afc88ca": {
      "model_module": "@jupyter-widgets/controls",
      "model_module_version": "1.5.0",
      "model_name": "DescriptionStyleModel",
      "state": {
       "_model_module": "@jupyter-widgets/controls",
       "_model_module_version": "1.5.0",
       "_model_name": "DescriptionStyleModel",
       "_view_count": null,
       "_view_module": "@jupyter-widgets/base",
       "_view_module_version": "1.2.0",
       "_view_name": "StyleView",
       "description_width": ""
      }
     },
     "17f10130c5a94d7fae8bf9f1cbbb2e55": {
      "model_module": "@jupyter-widgets/base",
      "model_module_version": "1.2.0",
      "model_name": "LayoutModel",
      "state": {
       "_model_module": "@jupyter-widgets/base",
       "_model_module_version": "1.2.0",
       "_model_name": "LayoutModel",
       "_view_count": null,
       "_view_module": "@jupyter-widgets/base",
       "_view_module_version": "1.2.0",
       "_view_name": "LayoutView",
       "align_content": null,
       "align_items": null,
       "align_self": null,
       "border": null,
       "bottom": null,
       "display": null,
       "flex": null,
       "flex_flow": null,
       "grid_area": null,
       "grid_auto_columns": null,
       "grid_auto_flow": null,
       "grid_auto_rows": null,
       "grid_column": null,
       "grid_gap": null,
       "grid_row": null,
       "grid_template_areas": null,
       "grid_template_columns": null,
       "grid_template_rows": null,
       "height": null,
       "justify_content": null,
       "justify_items": null,
       "left": null,
       "margin": null,
       "max_height": null,
       "max_width": null,
       "min_height": null,
       "min_width": null,
       "object_fit": null,
       "object_position": null,
       "order": null,
       "overflow": null,
       "overflow_x": null,
       "overflow_y": null,
       "padding": null,
       "right": null,
       "top": null,
       "visibility": null,
       "width": null
      }
     },
     "18018bf17c4a4ebb99742e5d4119b4a8": {
      "model_module": "@jupyter-widgets/base",
      "model_module_version": "1.2.0",
      "model_name": "LayoutModel",
      "state": {
       "_model_module": "@jupyter-widgets/base",
       "_model_module_version": "1.2.0",
       "_model_name": "LayoutModel",
       "_view_count": null,
       "_view_module": "@jupyter-widgets/base",
       "_view_module_version": "1.2.0",
       "_view_name": "LayoutView",
       "align_content": null,
       "align_items": null,
       "align_self": null,
       "border": null,
       "bottom": null,
       "display": null,
       "flex": null,
       "flex_flow": null,
       "grid_area": null,
       "grid_auto_columns": null,
       "grid_auto_flow": null,
       "grid_auto_rows": null,
       "grid_column": null,
       "grid_gap": null,
       "grid_row": null,
       "grid_template_areas": null,
       "grid_template_columns": null,
       "grid_template_rows": null,
       "height": null,
       "justify_content": null,
       "justify_items": null,
       "left": null,
       "margin": null,
       "max_height": null,
       "max_width": null,
       "min_height": null,
       "min_width": null,
       "object_fit": null,
       "object_position": null,
       "order": null,
       "overflow": null,
       "overflow_x": null,
       "overflow_y": null,
       "padding": null,
       "right": null,
       "top": null,
       "visibility": null,
       "width": null
      }
     },
     "1e97cefa2251418e91873f5d57391911": {
      "model_module": "@jupyter-widgets/controls",
      "model_module_version": "1.5.0",
      "model_name": "FloatProgressModel",
      "state": {
       "_dom_classes": [],
       "_model_module": "@jupyter-widgets/controls",
       "_model_module_version": "1.5.0",
       "_model_name": "FloatProgressModel",
       "_view_count": null,
       "_view_module": "@jupyter-widgets/controls",
       "_view_module_version": "1.5.0",
       "_view_name": "ProgressView",
       "bar_style": "success",
       "description": "",
       "description_tooltip": null,
       "layout": "IPY_MODEL_7cd22cc348ef44c0a4fcefc8dca3e7b7",
       "max": 456318.0,
       "min": 0.0,
       "orientation": "horizontal",
       "style": "IPY_MODEL_93c4da20d1554e718df7ced8e24212ec",
       "value": 456318.0
      }
     },
     "21e54caf28b54ebc812878698d4ffc25": {
      "model_module": "@jupyter-widgets/base",
      "model_module_version": "1.2.0",
      "model_name": "LayoutModel",
      "state": {
       "_model_module": "@jupyter-widgets/base",
       "_model_module_version": "1.2.0",
       "_model_name": "LayoutModel",
       "_view_count": null,
       "_view_module": "@jupyter-widgets/base",
       "_view_module_version": "1.2.0",
       "_view_name": "LayoutView",
       "align_content": null,
       "align_items": null,
       "align_self": null,
       "border": null,
       "bottom": null,
       "display": null,
       "flex": null,
       "flex_flow": null,
       "grid_area": null,
       "grid_auto_columns": null,
       "grid_auto_flow": null,
       "grid_auto_rows": null,
       "grid_column": null,
       "grid_gap": null,
       "grid_row": null,
       "grid_template_areas": null,
       "grid_template_columns": null,
       "grid_template_rows": null,
       "height": null,
       "justify_content": null,
       "justify_items": null,
       "left": null,
       "margin": null,
       "max_height": null,
       "max_width": null,
       "min_height": null,
       "min_width": null,
       "object_fit": null,
       "object_position": null,
       "order": null,
       "overflow": null,
       "overflow_x": null,
       "overflow_y": null,
       "padding": null,
       "right": null,
       "top": null,
       "visibility": null,
       "width": null
      }
     },
     "239cd55516554036942c453d4f2f0464": {
      "model_module": "@jupyter-widgets/base",
      "model_module_version": "1.2.0",
      "model_name": "LayoutModel",
      "state": {
       "_model_module": "@jupyter-widgets/base",
       "_model_module_version": "1.2.0",
       "_model_name": "LayoutModel",
       "_view_count": null,
       "_view_module": "@jupyter-widgets/base",
       "_view_module_version": "1.2.0",
       "_view_name": "LayoutView",
       "align_content": null,
       "align_items": null,
       "align_self": null,
       "border": null,
       "bottom": null,
       "display": null,
       "flex": null,
       "flex_flow": null,
       "grid_area": null,
       "grid_auto_columns": null,
       "grid_auto_flow": null,
       "grid_auto_rows": null,
       "grid_column": null,
       "grid_gap": null,
       "grid_row": null,
       "grid_template_areas": null,
       "grid_template_columns": null,
       "grid_template_rows": null,
       "height": null,
       "justify_content": null,
       "justify_items": null,
       "left": null,
       "margin": null,
       "max_height": null,
       "max_width": null,
       "min_height": null,
       "min_width": null,
       "object_fit": null,
       "object_position": null,
       "order": null,
       "overflow": null,
       "overflow_x": null,
       "overflow_y": null,
       "padding": null,
       "right": null,
       "top": null,
       "visibility": null,
       "width": null
      }
     },
     "2764c5c88cb94d1fad6ffef72bab46c5": {
      "model_module": "@jupyter-widgets/base",
      "model_module_version": "1.2.0",
      "model_name": "LayoutModel",
      "state": {
       "_model_module": "@jupyter-widgets/base",
       "_model_module_version": "1.2.0",
       "_model_name": "LayoutModel",
       "_view_count": null,
       "_view_module": "@jupyter-widgets/base",
       "_view_module_version": "1.2.0",
       "_view_name": "LayoutView",
       "align_content": null,
       "align_items": null,
       "align_self": null,
       "border": null,
       "bottom": null,
       "display": null,
       "flex": null,
       "flex_flow": null,
       "grid_area": null,
       "grid_auto_columns": null,
       "grid_auto_flow": null,
       "grid_auto_rows": null,
       "grid_column": null,
       "grid_gap": null,
       "grid_row": null,
       "grid_template_areas": null,
       "grid_template_columns": null,
       "grid_template_rows": null,
       "height": null,
       "justify_content": null,
       "justify_items": null,
       "left": null,
       "margin": null,
       "max_height": null,
       "max_width": null,
       "min_height": null,
       "min_width": null,
       "object_fit": null,
       "object_position": null,
       "order": null,
       "overflow": null,
       "overflow_x": null,
       "overflow_y": null,
       "padding": null,
       "right": null,
       "top": null,
       "visibility": null,
       "width": null
      }
     },
     "2a675ebd5f494826bd6be5d7ffc40c05": {
      "model_module": "@jupyter-widgets/controls",
      "model_module_version": "1.5.0",
      "model_name": "DescriptionStyleModel",
      "state": {
       "_model_module": "@jupyter-widgets/controls",
       "_model_module_version": "1.5.0",
       "_model_name": "DescriptionStyleModel",
       "_view_count": null,
       "_view_module": "@jupyter-widgets/base",
       "_view_module_version": "1.2.0",
       "_view_name": "StyleView",
       "description_width": ""
      }
     },
     "2fba204ff5e04eadb364c2a48e6e5126": {
      "model_module": "@jupyter-widgets/controls",
      "model_module_version": "1.5.0",
      "model_name": "DescriptionStyleModel",
      "state": {
       "_model_module": "@jupyter-widgets/controls",
       "_model_module_version": "1.5.0",
       "_model_name": "DescriptionStyleModel",
       "_view_count": null,
       "_view_module": "@jupyter-widgets/base",
       "_view_module_version": "1.2.0",
       "_view_name": "StyleView",
       "description_width": ""
      }
     },
     "3394c944d07941e4b10e3edc9acc8888": {
      "model_module": "@jupyter-widgets/controls",
      "model_module_version": "1.5.0",
      "model_name": "DescriptionStyleModel",
      "state": {
       "_model_module": "@jupyter-widgets/controls",
       "_model_module_version": "1.5.0",
       "_model_name": "DescriptionStyleModel",
       "_view_count": null,
       "_view_module": "@jupyter-widgets/base",
       "_view_module_version": "1.2.0",
       "_view_name": "StyleView",
       "description_width": ""
      }
     },
     "35cabfd845534980bc8a84f0e9f574eb": {
      "model_module": "@jupyter-widgets/controls",
      "model_module_version": "1.5.0",
      "model_name": "HTMLModel",
      "state": {
       "_dom_classes": [],
       "_model_module": "@jupyter-widgets/controls",
       "_model_module_version": "1.5.0",
       "_model_name": "HTMLModel",
       "_view_count": null,
       "_view_module": "@jupyter-widgets/controls",
       "_view_module_version": "1.5.0",
       "_view_name": "HTMLView",
       "description": "",
       "description_tooltip": null,
       "layout": "IPY_MODEL_e0ac037ab3c24cb2b6fe6b12dd81a3c7",
       "placeholder": "​",
       "style": "IPY_MODEL_f172293b856248929ee94bf4576b5981",
       "value": " 1.36M/1.36M [00:00&lt;00:00, 2.21MB/s]"
      }
     },
     "3a76ad72bfab463fa5ed30d92d6d733c": {
      "model_module": "@jupyter-widgets/base",
      "model_module_version": "1.2.0",
      "model_name": "LayoutModel",
      "state": {
       "_model_module": "@jupyter-widgets/base",
       "_model_module_version": "1.2.0",
       "_model_name": "LayoutModel",
       "_view_count": null,
       "_view_module": "@jupyter-widgets/base",
       "_view_module_version": "1.2.0",
       "_view_name": "LayoutView",
       "align_content": null,
       "align_items": null,
       "align_self": null,
       "border": null,
       "bottom": null,
       "display": null,
       "flex": null,
       "flex_flow": null,
       "grid_area": null,
       "grid_auto_columns": null,
       "grid_auto_flow": null,
       "grid_auto_rows": null,
       "grid_column": null,
       "grid_gap": null,
       "grid_row": null,
       "grid_template_areas": null,
       "grid_template_columns": null,
       "grid_template_rows": null,
       "height": null,
       "justify_content": null,
       "justify_items": null,
       "left": null,
       "margin": null,
       "max_height": null,
       "max_width": null,
       "min_height": null,
       "min_width": null,
       "object_fit": null,
       "object_position": null,
       "order": null,
       "overflow": null,
       "overflow_x": null,
       "overflow_y": null,
       "padding": null,
       "right": null,
       "top": null,
       "visibility": null,
       "width": null
      }
     },
     "3b1d726bc7f24a7591f6c72cbc9ba6ed": {
      "model_module": "@jupyter-widgets/base",
      "model_module_version": "1.2.0",
      "model_name": "LayoutModel",
      "state": {
       "_model_module": "@jupyter-widgets/base",
       "_model_module_version": "1.2.0",
       "_model_name": "LayoutModel",
       "_view_count": null,
       "_view_module": "@jupyter-widgets/base",
       "_view_module_version": "1.2.0",
       "_view_name": "LayoutView",
       "align_content": null,
       "align_items": null,
       "align_self": null,
       "border": null,
       "bottom": null,
       "display": null,
       "flex": null,
       "flex_flow": null,
       "grid_area": null,
       "grid_auto_columns": null,
       "grid_auto_flow": null,
       "grid_auto_rows": null,
       "grid_column": null,
       "grid_gap": null,
       "grid_row": null,
       "grid_template_areas": null,
       "grid_template_columns": null,
       "grid_template_rows": null,
       "height": null,
       "justify_content": null,
       "justify_items": null,
       "left": null,
       "margin": null,
       "max_height": null,
       "max_width": null,
       "min_height": null,
       "min_width": null,
       "object_fit": null,
       "object_position": null,
       "order": null,
       "overflow": null,
       "overflow_x": null,
       "overflow_y": null,
       "padding": null,
       "right": null,
       "top": null,
       "visibility": null,
       "width": null
      }
     },
     "450365fb79a246fea0cb7f6e2148593e": {
      "model_module": "@jupyter-widgets/base",
      "model_module_version": "1.2.0",
      "model_name": "LayoutModel",
      "state": {
       "_model_module": "@jupyter-widgets/base",
       "_model_module_version": "1.2.0",
       "_model_name": "LayoutModel",
       "_view_count": null,
       "_view_module": "@jupyter-widgets/base",
       "_view_module_version": "1.2.0",
       "_view_name": "LayoutView",
       "align_content": null,
       "align_items": null,
       "align_self": null,
       "border": null,
       "bottom": null,
       "display": null,
       "flex": null,
       "flex_flow": null,
       "grid_area": null,
       "grid_auto_columns": null,
       "grid_auto_flow": null,
       "grid_auto_rows": null,
       "grid_column": null,
       "grid_gap": null,
       "grid_row": null,
       "grid_template_areas": null,
       "grid_template_columns": null,
       "grid_template_rows": null,
       "height": null,
       "justify_content": null,
       "justify_items": null,
       "left": null,
       "margin": null,
       "max_height": null,
       "max_width": null,
       "min_height": null,
       "min_width": null,
       "object_fit": null,
       "object_position": null,
       "order": null,
       "overflow": null,
       "overflow_x": null,
       "overflow_y": null,
       "padding": null,
       "right": null,
       "top": null,
       "visibility": null,
       "width": null
      }
     },
     "4a97fe3d80154ed3b3c3c61772f119d9": {
      "model_module": "@jupyter-widgets/controls",
      "model_module_version": "1.5.0",
      "model_name": "DescriptionStyleModel",
      "state": {
       "_model_module": "@jupyter-widgets/controls",
       "_model_module_version": "1.5.0",
       "_model_name": "DescriptionStyleModel",
       "_view_count": null,
       "_view_module": "@jupyter-widgets/base",
       "_view_module_version": "1.2.0",
       "_view_name": "StyleView",
       "description_width": ""
      }
     },
     "4e7a9bfe97994c7b8f498a19001fa738": {
      "model_module": "@jupyter-widgets/base",
      "model_module_version": "1.2.0",
      "model_name": "LayoutModel",
      "state": {
       "_model_module": "@jupyter-widgets/base",
       "_model_module_version": "1.2.0",
       "_model_name": "LayoutModel",
       "_view_count": null,
       "_view_module": "@jupyter-widgets/base",
       "_view_module_version": "1.2.0",
       "_view_name": "LayoutView",
       "align_content": null,
       "align_items": null,
       "align_self": null,
       "border": null,
       "bottom": null,
       "display": null,
       "flex": null,
       "flex_flow": null,
       "grid_area": null,
       "grid_auto_columns": null,
       "grid_auto_flow": null,
       "grid_auto_rows": null,
       "grid_column": null,
       "grid_gap": null,
       "grid_row": null,
       "grid_template_areas": null,
       "grid_template_columns": null,
       "grid_template_rows": null,
       "height": null,
       "justify_content": null,
       "justify_items": null,
       "left": null,
       "margin": null,
       "max_height": null,
       "max_width": null,
       "min_height": null,
       "min_width": null,
       "object_fit": null,
       "object_position": null,
       "order": null,
       "overflow": null,
       "overflow_x": null,
       "overflow_y": null,
       "padding": null,
       "right": null,
       "top": null,
       "visibility": null,
       "width": null
      }
     },
     "53ec5446a409445f8c826e7e2af39cb0": {
      "model_module": "@jupyter-widgets/controls",
      "model_module_version": "1.5.0",
      "model_name": "HTMLModel",
      "state": {
       "_dom_classes": [],
       "_model_module": "@jupyter-widgets/controls",
       "_model_module_version": "1.5.0",
       "_model_name": "HTMLModel",
       "_view_count": null,
       "_view_module": "@jupyter-widgets/controls",
       "_view_module_version": "1.5.0",
       "_view_name": "HTMLView",
       "description": "",
       "description_tooltip": null,
       "layout": "IPY_MODEL_18018bf17c4a4ebb99742e5d4119b4a8",
       "placeholder": "​",
       "style": "IPY_MODEL_2fba204ff5e04eadb364c2a48e6e5126",
       "value": " 501M/501M [00:16&lt;00:00, 31.5MB/s]"
      }
     },
     "53f9041cf561428ea312ce5d02cdea5a": {
      "model_module": "@jupyter-widgets/controls",
      "model_module_version": "1.5.0",
      "model_name": "DescriptionStyleModel",
      "state": {
       "_model_module": "@jupyter-widgets/controls",
       "_model_module_version": "1.5.0",
       "_model_name": "DescriptionStyleModel",
       "_view_count": null,
       "_view_module": "@jupyter-widgets/base",
       "_view_module_version": "1.2.0",
       "_view_name": "StyleView",
       "description_width": ""
      }
     },
     "5bffff5d4ec94945b5f8b126447db122": {
      "model_module": "@jupyter-widgets/controls",
      "model_module_version": "1.5.0",
      "model_name": "HBoxModel",
      "state": {
       "_dom_classes": [],
       "_model_module": "@jupyter-widgets/controls",
       "_model_module_version": "1.5.0",
       "_model_name": "HBoxModel",
       "_view_count": null,
       "_view_module": "@jupyter-widgets/controls",
       "_view_module_version": "1.5.0",
       "_view_name": "HBoxView",
       "box_style": "",
       "children": [
        "IPY_MODEL_d6a79c2a67d44d02b6c6cc5f3bdf24b4",
        "IPY_MODEL_ae9a0f6d3ea149e8b4c59577928d7c34",
        "IPY_MODEL_35cabfd845534980bc8a84f0e9f574eb"
       ],
       "layout": "IPY_MODEL_69b68075645349549279357e3e03e315"
      }
     },
     "62d3db92ad7647bcb4a529e4a3614269": {
      "model_module": "@jupyter-widgets/controls",
      "model_module_version": "1.5.0",
      "model_name": "HTMLModel",
      "state": {
       "_dom_classes": [],
       "_model_module": "@jupyter-widgets/controls",
       "_model_module_version": "1.5.0",
       "_model_name": "HTMLModel",
       "_view_count": null,
       "_view_module": "@jupyter-widgets/controls",
       "_view_module_version": "1.5.0",
       "_view_name": "HTMLView",
       "description": "",
       "description_tooltip": null,
       "layout": "IPY_MODEL_13cdf964bfdb46dcbf78232d46d3604a",
       "placeholder": "​",
       "style": "IPY_MODEL_eaaceaa4f47645818d01470d217c96cc",
       "value": " 456k/456k [00:00&lt;00:00, 944kB/s]"
      }
     },
     "65f74b7bcb5c4d24827b76eb994403c4": {
      "model_module": "@jupyter-widgets/controls",
      "model_module_version": "1.5.0",
      "model_name": "HBoxModel",
      "state": {
       "_dom_classes": [],
       "_model_module": "@jupyter-widgets/controls",
       "_model_module_version": "1.5.0",
       "_model_name": "HBoxModel",
       "_view_count": null,
       "_view_module": "@jupyter-widgets/controls",
       "_view_module_version": "1.5.0",
       "_view_name": "HBoxView",
       "box_style": "",
       "children": [
        "IPY_MODEL_937945cd73ad486ba0e5310128f915a4",
        "IPY_MODEL_0e14735a010a4b148c5d4a6469e908de",
        "IPY_MODEL_cd9ed2d005b948b68afcd77807a78786"
       ],
       "layout": "IPY_MODEL_21e54caf28b54ebc812878698d4ffc25"
      }
     },
     "681d80ccfa974e538c6a12a9998aa2df": {
      "model_module": "@jupyter-widgets/controls",
      "model_module_version": "1.5.0",
      "model_name": "HTMLModel",
      "state": {
       "_dom_classes": [],
       "_model_module": "@jupyter-widgets/controls",
       "_model_module_version": "1.5.0",
       "_model_name": "HTMLModel",
       "_view_count": null,
       "_view_module": "@jupyter-widgets/controls",
       "_view_module_version": "1.5.0",
       "_view_name": "HTMLView",
       "description": "",
       "description_tooltip": null,
       "layout": "IPY_MODEL_9b5e9a79be6f4c34873844f01deec1f4",
       "placeholder": "​",
       "style": "IPY_MODEL_145f618be07946ef9a6ebda49afc88ca",
       "value": "Downloading: 100%"
      }
     },
     "69b68075645349549279357e3e03e315": {
      "model_module": "@jupyter-widgets/base",
      "model_module_version": "1.2.0",
      "model_name": "LayoutModel",
      "state": {
       "_model_module": "@jupyter-widgets/base",
       "_model_module_version": "1.2.0",
       "_model_name": "LayoutModel",
       "_view_count": null,
       "_view_module": "@jupyter-widgets/base",
       "_view_module_version": "1.2.0",
       "_view_name": "LayoutView",
       "align_content": null,
       "align_items": null,
       "align_self": null,
       "border": null,
       "bottom": null,
       "display": null,
       "flex": null,
       "flex_flow": null,
       "grid_area": null,
       "grid_auto_columns": null,
       "grid_auto_flow": null,
       "grid_auto_rows": null,
       "grid_column": null,
       "grid_gap": null,
       "grid_row": null,
       "grid_template_areas": null,
       "grid_template_columns": null,
       "grid_template_rows": null,
       "height": null,
       "justify_content": null,
       "justify_items": null,
       "left": null,
       "margin": null,
       "max_height": null,
       "max_width": null,
       "min_height": null,
       "min_width": null,
       "object_fit": null,
       "object_position": null,
       "order": null,
       "overflow": null,
       "overflow_x": null,
       "overflow_y": null,
       "padding": null,
       "right": null,
       "top": null,
       "visibility": null,
       "width": null
      }
     },
     "6ad19795a5ca406f8d3e55d4ab8f448e": {
      "model_module": "@jupyter-widgets/base",
      "model_module_version": "1.2.0",
      "model_name": "LayoutModel",
      "state": {
       "_model_module": "@jupyter-widgets/base",
       "_model_module_version": "1.2.0",
       "_model_name": "LayoutModel",
       "_view_count": null,
       "_view_module": "@jupyter-widgets/base",
       "_view_module_version": "1.2.0",
       "_view_name": "LayoutView",
       "align_content": null,
       "align_items": null,
       "align_self": null,
       "border": null,
       "bottom": null,
       "display": null,
       "flex": null,
       "flex_flow": null,
       "grid_area": null,
       "grid_auto_columns": null,
       "grid_auto_flow": null,
       "grid_auto_rows": null,
       "grid_column": null,
       "grid_gap": null,
       "grid_row": null,
       "grid_template_areas": null,
       "grid_template_columns": null,
       "grid_template_rows": null,
       "height": null,
       "justify_content": null,
       "justify_items": null,
       "left": null,
       "margin": null,
       "max_height": null,
       "max_width": null,
       "min_height": null,
       "min_width": null,
       "object_fit": null,
       "object_position": null,
       "order": null,
       "overflow": null,
       "overflow_x": null,
       "overflow_y": null,
       "padding": null,
       "right": null,
       "top": null,
       "visibility": null,
       "width": null
      }
     },
     "756856b19dfd4bc0a3ce446cfaf0bed0": {
      "model_module": "@jupyter-widgets/controls",
      "model_module_version": "1.5.0",
      "model_name": "DescriptionStyleModel",
      "state": {
       "_model_module": "@jupyter-widgets/controls",
       "_model_module_version": "1.5.0",
       "_model_name": "DescriptionStyleModel",
       "_view_count": null,
       "_view_module": "@jupyter-widgets/base",
       "_view_module_version": "1.2.0",
       "_view_name": "StyleView",
       "description_width": ""
      }
     },
     "7907b57f9cc941e8b794da3575becd21": {
      "model_module": "@jupyter-widgets/controls",
      "model_module_version": "1.5.0",
      "model_name": "FloatProgressModel",
      "state": {
       "_dom_classes": [],
       "_model_module": "@jupyter-widgets/controls",
       "_model_module_version": "1.5.0",
       "_model_name": "FloatProgressModel",
       "_view_count": null,
       "_view_module": "@jupyter-widgets/controls",
       "_view_module_version": "1.5.0",
       "_view_name": "ProgressView",
       "bar_style": "success",
       "description": "",
       "description_tooltip": null,
       "layout": "IPY_MODEL_b5f0763561ce453e95c9135675a8e6be",
       "max": 501200538.0,
       "min": 0.0,
       "orientation": "horizontal",
       "style": "IPY_MODEL_cb22abdb852246108f1e828f7eabd2f2",
       "value": 501200538.0
      }
     },
     "7a9215e150d04daa96ff97c9ecf33b59": {
      "model_module": "@jupyter-widgets/controls",
      "model_module_version": "1.5.0",
      "model_name": "HBoxModel",
      "state": {
       "_dom_classes": [],
       "_model_module": "@jupyter-widgets/controls",
       "_model_module_version": "1.5.0",
       "_model_name": "HBoxModel",
       "_view_count": null,
       "_view_module": "@jupyter-widgets/controls",
       "_view_module_version": "1.5.0",
       "_view_name": "HBoxView",
       "box_style": "",
       "children": [
        "IPY_MODEL_681d80ccfa974e538c6a12a9998aa2df",
        "IPY_MODEL_7907b57f9cc941e8b794da3575becd21",
        "IPY_MODEL_53ec5446a409445f8c826e7e2af39cb0"
       ],
       "layout": "IPY_MODEL_17f10130c5a94d7fae8bf9f1cbbb2e55"
      }
     },
     "7cd22cc348ef44c0a4fcefc8dca3e7b7": {
      "model_module": "@jupyter-widgets/base",
      "model_module_version": "1.2.0",
      "model_name": "LayoutModel",
      "state": {
       "_model_module": "@jupyter-widgets/base",
       "_model_module_version": "1.2.0",
       "_model_name": "LayoutModel",
       "_view_count": null,
       "_view_module": "@jupyter-widgets/base",
       "_view_module_version": "1.2.0",
       "_view_name": "LayoutView",
       "align_content": null,
       "align_items": null,
       "align_self": null,
       "border": null,
       "bottom": null,
       "display": null,
       "flex": null,
       "flex_flow": null,
       "grid_area": null,
       "grid_auto_columns": null,
       "grid_auto_flow": null,
       "grid_auto_rows": null,
       "grid_column": null,
       "grid_gap": null,
       "grid_row": null,
       "grid_template_areas": null,
       "grid_template_columns": null,
       "grid_template_rows": null,
       "height": null,
       "justify_content": null,
       "justify_items": null,
       "left": null,
       "margin": null,
       "max_height": null,
       "max_width": null,
       "min_height": null,
       "min_width": null,
       "object_fit": null,
       "object_position": null,
       "order": null,
       "overflow": null,
       "overflow_x": null,
       "overflow_y": null,
       "padding": null,
       "right": null,
       "top": null,
       "visibility": null,
       "width": null
      }
     },
     "7e53eade03ae4a5199ce6bc897789cb5": {
      "model_module": "@jupyter-widgets/controls",
      "model_module_version": "1.5.0",
      "model_name": "HTMLModel",
      "state": {
       "_dom_classes": [],
       "_model_module": "@jupyter-widgets/controls",
       "_model_module_version": "1.5.0",
       "_model_name": "HTMLModel",
       "_view_count": null,
       "_view_module": "@jupyter-widgets/controls",
       "_view_module_version": "1.5.0",
       "_view_name": "HTMLView",
       "description": "",
       "description_tooltip": null,
       "layout": "IPY_MODEL_8c801ba76d66414e86be26bf4c92a20e",
       "placeholder": "​",
       "style": "IPY_MODEL_4a97fe3d80154ed3b3c3c61772f119d9",
       "value": " 899k/899k [00:00&lt;00:00, 828kB/s]"
      }
     },
     "7f6d18047eb848f5822bba2fc7751e84": {
      "model_module": "@jupyter-widgets/controls",
      "model_module_version": "1.5.0",
      "model_name": "HBoxModel",
      "state": {
       "_dom_classes": [],
       "_model_module": "@jupyter-widgets/controls",
       "_model_module_version": "1.5.0",
       "_model_name": "HBoxModel",
       "_view_count": null,
       "_view_module": "@jupyter-widgets/controls",
       "_view_module_version": "1.5.0",
       "_view_name": "HBoxView",
       "box_style": "",
       "children": [
        "IPY_MODEL_a29159ca56e24aeba6851b4429b18c52",
        "IPY_MODEL_1376467925d545d28e3bddc0a7925358",
        "IPY_MODEL_7e53eade03ae4a5199ce6bc897789cb5"
       ],
       "layout": "IPY_MODEL_3a76ad72bfab463fa5ed30d92d6d733c"
      }
     },
     "8c801ba76d66414e86be26bf4c92a20e": {
      "model_module": "@jupyter-widgets/base",
      "model_module_version": "1.2.0",
      "model_name": "LayoutModel",
      "state": {
       "_model_module": "@jupyter-widgets/base",
       "_model_module_version": "1.2.0",
       "_model_name": "LayoutModel",
       "_view_count": null,
       "_view_module": "@jupyter-widgets/base",
       "_view_module_version": "1.2.0",
       "_view_name": "LayoutView",
       "align_content": null,
       "align_items": null,
       "align_self": null,
       "border": null,
       "bottom": null,
       "display": null,
       "flex": null,
       "flex_flow": null,
       "grid_area": null,
       "grid_auto_columns": null,
       "grid_auto_flow": null,
       "grid_auto_rows": null,
       "grid_column": null,
       "grid_gap": null,
       "grid_row": null,
       "grid_template_areas": null,
       "grid_template_columns": null,
       "grid_template_rows": null,
       "height": null,
       "justify_content": null,
       "justify_items": null,
       "left": null,
       "margin": null,
       "max_height": null,
       "max_width": null,
       "min_height": null,
       "min_width": null,
       "object_fit": null,
       "object_position": null,
       "order": null,
       "overflow": null,
       "overflow_x": null,
       "overflow_y": null,
       "padding": null,
       "right": null,
       "top": null,
       "visibility": null,
       "width": null
      }
     },
     "92d059b3d4f1405c848aa68643f52e8b": {
      "model_module": "@jupyter-widgets/controls",
      "model_module_version": "1.5.0",
      "model_name": "ProgressStyleModel",
      "state": {
       "_model_module": "@jupyter-widgets/controls",
       "_model_module_version": "1.5.0",
       "_model_name": "ProgressStyleModel",
       "_view_count": null,
       "_view_module": "@jupyter-widgets/base",
       "_view_module_version": "1.2.0",
       "_view_name": "StyleView",
       "bar_color": null,
       "description_width": ""
      }
     },
     "937945cd73ad486ba0e5310128f915a4": {
      "model_module": "@jupyter-widgets/controls",
      "model_module_version": "1.5.0",
      "model_name": "HTMLModel",
      "state": {
       "_dom_classes": [],
       "_model_module": "@jupyter-widgets/controls",
       "_model_module_version": "1.5.0",
       "_model_name": "HTMLModel",
       "_view_count": null,
       "_view_module": "@jupyter-widgets/controls",
       "_view_module_version": "1.5.0",
       "_view_name": "HTMLView",
       "description": "",
       "description_tooltip": null,
       "layout": "IPY_MODEL_e6a2e86f3e4d4bb684a5f78fd1a80ca9",
       "placeholder": "​",
       "style": "IPY_MODEL_53f9041cf561428ea312ce5d02cdea5a",
       "value": "Downloading: 100%"
      }
     },
     "93c4da20d1554e718df7ced8e24212ec": {
      "model_module": "@jupyter-widgets/controls",
      "model_module_version": "1.5.0",
      "model_name": "ProgressStyleModel",
      "state": {
       "_model_module": "@jupyter-widgets/controls",
       "_model_module_version": "1.5.0",
       "_model_name": "ProgressStyleModel",
       "_view_count": null,
       "_view_module": "@jupyter-widgets/base",
       "_view_module_version": "1.2.0",
       "_view_name": "StyleView",
       "bar_color": null,
       "description_width": ""
      }
     },
     "9462a54b0fe748ef90592cf09287aac9": {
      "model_module": "@jupyter-widgets/base",
      "model_module_version": "1.2.0",
      "model_name": "LayoutModel",
      "state": {
       "_model_module": "@jupyter-widgets/base",
       "_model_module_version": "1.2.0",
       "_model_name": "LayoutModel",
       "_view_count": null,
       "_view_module": "@jupyter-widgets/base",
       "_view_module_version": "1.2.0",
       "_view_name": "LayoutView",
       "align_content": null,
       "align_items": null,
       "align_self": null,
       "border": null,
       "bottom": null,
       "display": null,
       "flex": null,
       "flex_flow": null,
       "grid_area": null,
       "grid_auto_columns": null,
       "grid_auto_flow": null,
       "grid_auto_rows": null,
       "grid_column": null,
       "grid_gap": null,
       "grid_row": null,
       "grid_template_areas": null,
       "grid_template_columns": null,
       "grid_template_rows": null,
       "height": null,
       "justify_content": null,
       "justify_items": null,
       "left": null,
       "margin": null,
       "max_height": null,
       "max_width": null,
       "min_height": null,
       "min_width": null,
       "object_fit": null,
       "object_position": null,
       "order": null,
       "overflow": null,
       "overflow_x": null,
       "overflow_y": null,
       "padding": null,
       "right": null,
       "top": null,
       "visibility": null,
       "width": null
      }
     },
     "9b5e9a79be6f4c34873844f01deec1f4": {
      "model_module": "@jupyter-widgets/base",
      "model_module_version": "1.2.0",
      "model_name": "LayoutModel",
      "state": {
       "_model_module": "@jupyter-widgets/base",
       "_model_module_version": "1.2.0",
       "_model_name": "LayoutModel",
       "_view_count": null,
       "_view_module": "@jupyter-widgets/base",
       "_view_module_version": "1.2.0",
       "_view_name": "LayoutView",
       "align_content": null,
       "align_items": null,
       "align_self": null,
       "border": null,
       "bottom": null,
       "display": null,
       "flex": null,
       "flex_flow": null,
       "grid_area": null,
       "grid_auto_columns": null,
       "grid_auto_flow": null,
       "grid_auto_rows": null,
       "grid_column": null,
       "grid_gap": null,
       "grid_row": null,
       "grid_template_areas": null,
       "grid_template_columns": null,
       "grid_template_rows": null,
       "height": null,
       "justify_content": null,
       "justify_items": null,
       "left": null,
       "margin": null,
       "max_height": null,
       "max_width": null,
       "min_height": null,
       "min_width": null,
       "object_fit": null,
       "object_position": null,
       "order": null,
       "overflow": null,
       "overflow_x": null,
       "overflow_y": null,
       "padding": null,
       "right": null,
       "top": null,
       "visibility": null,
       "width": null
      }
     },
     "a1cd2510963c4c85bf3ff4ee2ac6c2b5": {
      "model_module": "@jupyter-widgets/controls",
      "model_module_version": "1.5.0",
      "model_name": "DescriptionStyleModel",
      "state": {
       "_model_module": "@jupyter-widgets/controls",
       "_model_module_version": "1.5.0",
       "_model_name": "DescriptionStyleModel",
       "_view_count": null,
       "_view_module": "@jupyter-widgets/base",
       "_view_module_version": "1.2.0",
       "_view_name": "StyleView",
       "description_width": ""
      }
     },
     "a29159ca56e24aeba6851b4429b18c52": {
      "model_module": "@jupyter-widgets/controls",
      "model_module_version": "1.5.0",
      "model_name": "HTMLModel",
      "state": {
       "_dom_classes": [],
       "_model_module": "@jupyter-widgets/controls",
       "_model_module_version": "1.5.0",
       "_model_name": "HTMLModel",
       "_view_count": null,
       "_view_module": "@jupyter-widgets/controls",
       "_view_module_version": "1.5.0",
       "_view_name": "HTMLView",
       "description": "",
       "description_tooltip": null,
       "layout": "IPY_MODEL_b03a6d9454614f708a016639f04173c2",
       "placeholder": "​",
       "style": "IPY_MODEL_2a675ebd5f494826bd6be5d7ffc40c05",
       "value": "Downloading: 100%"
      }
     },
     "ae9a0f6d3ea149e8b4c59577928d7c34": {
      "model_module": "@jupyter-widgets/controls",
      "model_module_version": "1.5.0",
      "model_name": "FloatProgressModel",
      "state": {
       "_dom_classes": [],
       "_model_module": "@jupyter-widgets/controls",
       "_model_module_version": "1.5.0",
       "_model_name": "FloatProgressModel",
       "_view_count": null,
       "_view_module": "@jupyter-widgets/controls",
       "_view_module_version": "1.5.0",
       "_view_name": "ProgressView",
       "bar_style": "success",
       "description": "",
       "description_tooltip": null,
       "layout": "IPY_MODEL_4e7a9bfe97994c7b8f498a19001fa738",
       "max": 1355863.0,
       "min": 0.0,
       "orientation": "horizontal",
       "style": "IPY_MODEL_92d059b3d4f1405c848aa68643f52e8b",
       "value": 1355863.0
      }
     },
     "b03a6d9454614f708a016639f04173c2": {
      "model_module": "@jupyter-widgets/base",
      "model_module_version": "1.2.0",
      "model_name": "LayoutModel",
      "state": {
       "_model_module": "@jupyter-widgets/base",
       "_model_module_version": "1.2.0",
       "_model_name": "LayoutModel",
       "_view_count": null,
       "_view_module": "@jupyter-widgets/base",
       "_view_module_version": "1.2.0",
       "_view_name": "LayoutView",
       "align_content": null,
       "align_items": null,
       "align_self": null,
       "border": null,
       "bottom": null,
       "display": null,
       "flex": null,
       "flex_flow": null,
       "grid_area": null,
       "grid_auto_columns": null,
       "grid_auto_flow": null,
       "grid_auto_rows": null,
       "grid_column": null,
       "grid_gap": null,
       "grid_row": null,
       "grid_template_areas": null,
       "grid_template_columns": null,
       "grid_template_rows": null,
       "height": null,
       "justify_content": null,
       "justify_items": null,
       "left": null,
       "margin": null,
       "max_height": null,
       "max_width": null,
       "min_height": null,
       "min_width": null,
       "object_fit": null,
       "object_position": null,
       "order": null,
       "overflow": null,
       "overflow_x": null,
       "overflow_y": null,
       "padding": null,
       "right": null,
       "top": null,
       "visibility": null,
       "width": null
      }
     },
     "b5f0763561ce453e95c9135675a8e6be": {
      "model_module": "@jupyter-widgets/base",
      "model_module_version": "1.2.0",
      "model_name": "LayoutModel",
      "state": {
       "_model_module": "@jupyter-widgets/base",
       "_model_module_version": "1.2.0",
       "_model_name": "LayoutModel",
       "_view_count": null,
       "_view_module": "@jupyter-widgets/base",
       "_view_module_version": "1.2.0",
       "_view_name": "LayoutView",
       "align_content": null,
       "align_items": null,
       "align_self": null,
       "border": null,
       "bottom": null,
       "display": null,
       "flex": null,
       "flex_flow": null,
       "grid_area": null,
       "grid_auto_columns": null,
       "grid_auto_flow": null,
       "grid_auto_rows": null,
       "grid_column": null,
       "grid_gap": null,
       "grid_row": null,
       "grid_template_areas": null,
       "grid_template_columns": null,
       "grid_template_rows": null,
       "height": null,
       "justify_content": null,
       "justify_items": null,
       "left": null,
       "margin": null,
       "max_height": null,
       "max_width": null,
       "min_height": null,
       "min_width": null,
       "object_fit": null,
       "object_position": null,
       "order": null,
       "overflow": null,
       "overflow_x": null,
       "overflow_y": null,
       "padding": null,
       "right": null,
       "top": null,
       "visibility": null,
       "width": null
      }
     },
     "bba8b321465e418285c7dc20282ff3cb": {
      "model_module": "@jupyter-widgets/base",
      "model_module_version": "1.2.0",
      "model_name": "LayoutModel",
      "state": {
       "_model_module": "@jupyter-widgets/base",
       "_model_module_version": "1.2.0",
       "_model_name": "LayoutModel",
       "_view_count": null,
       "_view_module": "@jupyter-widgets/base",
       "_view_module_version": "1.2.0",
       "_view_name": "LayoutView",
       "align_content": null,
       "align_items": null,
       "align_self": null,
       "border": null,
       "bottom": null,
       "display": null,
       "flex": null,
       "flex_flow": null,
       "grid_area": null,
       "grid_auto_columns": null,
       "grid_auto_flow": null,
       "grid_auto_rows": null,
       "grid_column": null,
       "grid_gap": null,
       "grid_row": null,
       "grid_template_areas": null,
       "grid_template_columns": null,
       "grid_template_rows": null,
       "height": null,
       "justify_content": null,
       "justify_items": null,
       "left": null,
       "margin": null,
       "max_height": null,
       "max_width": null,
       "min_height": null,
       "min_width": null,
       "object_fit": null,
       "object_position": null,
       "order": null,
       "overflow": null,
       "overflow_x": null,
       "overflow_y": null,
       "padding": null,
       "right": null,
       "top": null,
       "visibility": null,
       "width": null
      }
     },
     "bd92310274954dc488618730d250ef74": {
      "model_module": "@jupyter-widgets/controls",
      "model_module_version": "1.5.0",
      "model_name": "DescriptionStyleModel",
      "state": {
       "_model_module": "@jupyter-widgets/controls",
       "_model_module_version": "1.5.0",
       "_model_name": "DescriptionStyleModel",
       "_view_count": null,
       "_view_module": "@jupyter-widgets/base",
       "_view_module_version": "1.2.0",
       "_view_name": "StyleView",
       "description_width": ""
      }
     },
     "cb22abdb852246108f1e828f7eabd2f2": {
      "model_module": "@jupyter-widgets/controls",
      "model_module_version": "1.5.0",
      "model_name": "ProgressStyleModel",
      "state": {
       "_model_module": "@jupyter-widgets/controls",
       "_model_module_version": "1.5.0",
       "_model_name": "ProgressStyleModel",
       "_view_count": null,
       "_view_module": "@jupyter-widgets/base",
       "_view_module_version": "1.2.0",
       "_view_name": "StyleView",
       "bar_color": null,
       "description_width": ""
      }
     },
     "cb8f7c038df147958545b39a77278ad8": {
      "model_module": "@jupyter-widgets/controls",
      "model_module_version": "1.5.0",
      "model_name": "VBoxModel",
      "state": {
       "_dom_classes": [],
       "_model_module": "@jupyter-widgets/controls",
       "_model_module_version": "1.5.0",
       "_model_name": "VBoxModel",
       "_view_count": null,
       "_view_module": "@jupyter-widgets/controls",
       "_view_module_version": "1.5.0",
       "_view_name": "VBoxView",
       "box_style": "",
       "children": [
        "IPY_MODEL_d18960ab1e664311af5996502ccb10c7",
        "IPY_MODEL_fa7b3029dfd94cda8655de0226d027b0"
       ],
       "layout": "IPY_MODEL_9462a54b0fe748ef90592cf09287aac9"
      }
     },
     "ccd6f03eb03c4f32895d88e3c691b5e1": {
      "model_module": "@jupyter-widgets/base",
      "model_module_version": "1.2.0",
      "model_name": "LayoutModel",
      "state": {
       "_model_module": "@jupyter-widgets/base",
       "_model_module_version": "1.2.0",
       "_model_name": "LayoutModel",
       "_view_count": null,
       "_view_module": "@jupyter-widgets/base",
       "_view_module_version": "1.2.0",
       "_view_name": "LayoutView",
       "align_content": null,
       "align_items": null,
       "align_self": null,
       "border": null,
       "bottom": null,
       "display": null,
       "flex": null,
       "flex_flow": null,
       "grid_area": null,
       "grid_auto_columns": null,
       "grid_auto_flow": null,
       "grid_auto_rows": null,
       "grid_column": null,
       "grid_gap": null,
       "grid_row": null,
       "grid_template_areas": null,
       "grid_template_columns": null,
       "grid_template_rows": null,
       "height": null,
       "justify_content": null,
       "justify_items": null,
       "left": null,
       "margin": null,
       "max_height": null,
       "max_width": null,
       "min_height": null,
       "min_width": null,
       "object_fit": null,
       "object_position": null,
       "order": null,
       "overflow": null,
       "overflow_x": null,
       "overflow_y": null,
       "padding": null,
       "right": null,
       "top": null,
       "visibility": null,
       "width": null
      }
     },
     "cd9ed2d005b948b68afcd77807a78786": {
      "model_module": "@jupyter-widgets/controls",
      "model_module_version": "1.5.0",
      "model_name": "HTMLModel",
      "state": {
       "_dom_classes": [],
       "_model_module": "@jupyter-widgets/controls",
       "_model_module_version": "1.5.0",
       "_model_name": "HTMLModel",
       "_view_count": null,
       "_view_module": "@jupyter-widgets/controls",
       "_view_module_version": "1.5.0",
       "_view_name": "HTMLView",
       "description": "",
       "description_tooltip": null,
       "layout": "IPY_MODEL_ccd6f03eb03c4f32895d88e3c691b5e1",
       "placeholder": "​",
       "style": "IPY_MODEL_a1cd2510963c4c85bf3ff4ee2ac6c2b5",
       "value": " 481/481 [00:00&lt;00:00, 8.83kB/s]"
      }
     },
     "d1444dce01754bd6b2074b623209f78b": {
      "model_module": "@jupyter-widgets/controls",
      "model_module_version": "1.5.0",
      "model_name": "HBoxModel",
      "state": {
       "_dom_classes": [],
       "_model_module": "@jupyter-widgets/controls",
       "_model_module_version": "1.5.0",
       "_model_name": "HBoxModel",
       "_view_count": null,
       "_view_module": "@jupyter-widgets/controls",
       "_view_module_version": "1.5.0",
       "_view_name": "HBoxView",
       "box_style": "",
       "children": [
        "IPY_MODEL_08d42d2654a74c7983961c3bbb66a2ee",
        "IPY_MODEL_1e97cefa2251418e91873f5d57391911",
        "IPY_MODEL_62d3db92ad7647bcb4a529e4a3614269"
       ],
       "layout": "IPY_MODEL_239cd55516554036942c453d4f2f0464"
      }
     },
     "d18960ab1e664311af5996502ccb10c7": {
      "model_module": "@jupyter-widgets/controls",
      "model_module_version": "1.5.0",
      "model_name": "LabelModel",
      "state": {
       "_dom_classes": [],
       "_model_module": "@jupyter-widgets/controls",
       "_model_module_version": "1.5.0",
       "_model_name": "LabelModel",
       "_view_count": null,
       "_view_module": "@jupyter-widgets/controls",
       "_view_module_version": "1.5.0",
       "_view_name": "LabelView",
       "description": "",
       "description_tooltip": null,
       "layout": "IPY_MODEL_6ad19795a5ca406f8d3e55d4ab8f448e",
       "placeholder": "​",
       "style": "IPY_MODEL_bd92310274954dc488618730d250ef74",
       "value": " 1.46MB of 1.46MB uploaded (0.00MB deduped)\r"
      }
     },
     "d6a79c2a67d44d02b6c6cc5f3bdf24b4": {
      "model_module": "@jupyter-widgets/controls",
      "model_module_version": "1.5.0",
      "model_name": "HTMLModel",
      "state": {
       "_dom_classes": [],
       "_model_module": "@jupyter-widgets/controls",
       "_model_module_version": "1.5.0",
       "_model_name": "HTMLModel",
       "_view_count": null,
       "_view_module": "@jupyter-widgets/controls",
       "_view_module_version": "1.5.0",
       "_view_name": "HTMLView",
       "description": "",
       "description_tooltip": null,
       "layout": "IPY_MODEL_3b1d726bc7f24a7591f6c72cbc9ba6ed",
       "placeholder": "​",
       "style": "IPY_MODEL_3394c944d07941e4b10e3edc9acc8888",
       "value": "Downloading: 100%"
      }
     },
     "e0ac037ab3c24cb2b6fe6b12dd81a3c7": {
      "model_module": "@jupyter-widgets/base",
      "model_module_version": "1.2.0",
      "model_name": "LayoutModel",
      "state": {
       "_model_module": "@jupyter-widgets/base",
       "_model_module_version": "1.2.0",
       "_model_name": "LayoutModel",
       "_view_count": null,
       "_view_module": "@jupyter-widgets/base",
       "_view_module_version": "1.2.0",
       "_view_name": "LayoutView",
       "align_content": null,
       "align_items": null,
       "align_self": null,
       "border": null,
       "bottom": null,
       "display": null,
       "flex": null,
       "flex_flow": null,
       "grid_area": null,
       "grid_auto_columns": null,
       "grid_auto_flow": null,
       "grid_auto_rows": null,
       "grid_column": null,
       "grid_gap": null,
       "grid_row": null,
       "grid_template_areas": null,
       "grid_template_columns": null,
       "grid_template_rows": null,
       "height": null,
       "justify_content": null,
       "justify_items": null,
       "left": null,
       "margin": null,
       "max_height": null,
       "max_width": null,
       "min_height": null,
       "min_width": null,
       "object_fit": null,
       "object_position": null,
       "order": null,
       "overflow": null,
       "overflow_x": null,
       "overflow_y": null,
       "padding": null,
       "right": null,
       "top": null,
       "visibility": null,
       "width": null
      }
     },
     "e5bf9775987d4caeb689d3cbec50bf6d": {
      "model_module": "@jupyter-widgets/controls",
      "model_module_version": "1.5.0",
      "model_name": "ProgressStyleModel",
      "state": {
       "_model_module": "@jupyter-widgets/controls",
       "_model_module_version": "1.5.0",
       "_model_name": "ProgressStyleModel",
       "_view_count": null,
       "_view_module": "@jupyter-widgets/base",
       "_view_module_version": "1.2.0",
       "_view_name": "StyleView",
       "bar_color": null,
       "description_width": ""
      }
     },
     "e6a2e86f3e4d4bb684a5f78fd1a80ca9": {
      "model_module": "@jupyter-widgets/base",
      "model_module_version": "1.2.0",
      "model_name": "LayoutModel",
      "state": {
       "_model_module": "@jupyter-widgets/base",
       "_model_module_version": "1.2.0",
       "_model_name": "LayoutModel",
       "_view_count": null,
       "_view_module": "@jupyter-widgets/base",
       "_view_module_version": "1.2.0",
       "_view_name": "LayoutView",
       "align_content": null,
       "align_items": null,
       "align_self": null,
       "border": null,
       "bottom": null,
       "display": null,
       "flex": null,
       "flex_flow": null,
       "grid_area": null,
       "grid_auto_columns": null,
       "grid_auto_flow": null,
       "grid_auto_rows": null,
       "grid_column": null,
       "grid_gap": null,
       "grid_row": null,
       "grid_template_areas": null,
       "grid_template_columns": null,
       "grid_template_rows": null,
       "height": null,
       "justify_content": null,
       "justify_items": null,
       "left": null,
       "margin": null,
       "max_height": null,
       "max_width": null,
       "min_height": null,
       "min_width": null,
       "object_fit": null,
       "object_position": null,
       "order": null,
       "overflow": null,
       "overflow_x": null,
       "overflow_y": null,
       "padding": null,
       "right": null,
       "top": null,
       "visibility": null,
       "width": null
      }
     },
     "eaaceaa4f47645818d01470d217c96cc": {
      "model_module": "@jupyter-widgets/controls",
      "model_module_version": "1.5.0",
      "model_name": "DescriptionStyleModel",
      "state": {
       "_model_module": "@jupyter-widgets/controls",
       "_model_module_version": "1.5.0",
       "_model_name": "DescriptionStyleModel",
       "_view_count": null,
       "_view_module": "@jupyter-widgets/base",
       "_view_module_version": "1.2.0",
       "_view_name": "StyleView",
       "description_width": ""
      }
     },
     "f172293b856248929ee94bf4576b5981": {
      "model_module": "@jupyter-widgets/controls",
      "model_module_version": "1.5.0",
      "model_name": "DescriptionStyleModel",
      "state": {
       "_model_module": "@jupyter-widgets/controls",
       "_model_module_version": "1.5.0",
       "_model_name": "DescriptionStyleModel",
       "_view_count": null,
       "_view_module": "@jupyter-widgets/base",
       "_view_module_version": "1.2.0",
       "_view_name": "StyleView",
       "description_width": ""
      }
     },
     "f2fddcd3218e461cba8ae80a9df967b9": {
      "model_module": "@jupyter-widgets/controls",
      "model_module_version": "1.5.0",
      "model_name": "ProgressStyleModel",
      "state": {
       "_model_module": "@jupyter-widgets/controls",
       "_model_module_version": "1.5.0",
       "_model_name": "ProgressStyleModel",
       "_view_count": null,
       "_view_module": "@jupyter-widgets/base",
       "_view_module_version": "1.2.0",
       "_view_name": "StyleView",
       "bar_color": null,
       "description_width": ""
      }
     },
     "f784ba7cd0e74aa4ba84832dff167561": {
      "model_module": "@jupyter-widgets/controls",
      "model_module_version": "1.5.0",
      "model_name": "ProgressStyleModel",
      "state": {
       "_model_module": "@jupyter-widgets/controls",
       "_model_module_version": "1.5.0",
       "_model_name": "ProgressStyleModel",
       "_view_count": null,
       "_view_module": "@jupyter-widgets/base",
       "_view_module_version": "1.2.0",
       "_view_name": "StyleView",
       "bar_color": null,
       "description_width": ""
      }
     },
     "fa7b3029dfd94cda8655de0226d027b0": {
      "model_module": "@jupyter-widgets/controls",
      "model_module_version": "1.5.0",
      "model_name": "FloatProgressModel",
      "state": {
       "_dom_classes": [],
       "_model_module": "@jupyter-widgets/controls",
       "_model_module_version": "1.5.0",
       "_model_name": "FloatProgressModel",
       "_view_count": null,
       "_view_module": "@jupyter-widgets/controls",
       "_view_module_version": "1.5.0",
       "_view_name": "ProgressView",
       "bar_style": "",
       "description": "",
       "description_tooltip": null,
       "layout": "IPY_MODEL_450365fb79a246fea0cb7f6e2148593e",
       "max": 1.0,
       "min": 0.0,
       "orientation": "horizontal",
       "style": "IPY_MODEL_f784ba7cd0e74aa4ba84832dff167561",
       "value": 1.0
      }
     }
    },
    "version_major": 2,
    "version_minor": 0
   }
  }
 },
 "nbformat": 4,
 "nbformat_minor": 5
}
